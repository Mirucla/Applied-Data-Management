{
  "nbformat": 4,
  "nbformat_minor": 0,
  "metadata": {
    "colab": {
      "provenance": [],
      "authorship_tag": "ABX9TyPRImtXdQ26IZmXZUni5sYM",
      "include_colab_link": true
    },
    "kernelspec": {
      "name": "python3",
      "display_name": "Python 3"
    },
    "language_info": {
      "name": "python"
    }
  },
  "cells": [
    {
      "cell_type": "markdown",
      "metadata": {
        "id": "view-in-github",
        "colab_type": "text"
      },
      "source": [
        "<a href=\"https://colab.research.google.com/github/Mirucla/Applied-Data-Management/blob/main/In_Class_7.ipynb\" target=\"_parent\"><img src=\"https://colab.research.google.com/assets/colab-badge.svg\" alt=\"Open In Colab\"/></a>"
      ]
    },
    {
      "cell_type": "markdown",
      "source": [
        "# 1.) Import an Asset price from yahoo finance"
      ],
      "metadata": {
        "id": "CvgWvAp4AmPm"
      }
    },
    {
      "cell_type": "code",
      "execution_count": 1,
      "metadata": {
        "id": "PUSOMzdk3pzs"
      },
      "outputs": [],
      "source": [
        "import pandas as pd\n",
        "import matplotlib.pyplot as plt\n",
        "import numpy as np"
      ]
    },
    {
      "cell_type": "code",
      "source": [
        "import yfinance as yf\n",
        "\n",
        "start = datetime.datetime(2005, 1, 1)\n",
        "end = datetime.datetime(2022, 1, 1)\n",
        "\n",
        "df = yf.download(\"MSFT\", start=start, end=end)\n",
        "\n",
        "print(df.head())"
      ],
      "metadata": {
        "colab": {
          "base_uri": "https://localhost:8080/"
        },
        "id": "6xGzbRpu_YY3",
        "outputId": "bd813959-af48-481c-dc76-119e97de0985"
      },
      "execution_count": 35,
      "outputs": [
        {
          "output_type": "stream",
          "name": "stdout",
          "text": [
            "\r[*********************100%***********************]  1 of 1 completed\n",
            "                 Open       High        Low      Close  Adj Close     Volume\n",
            "Date                                                                        \n",
            "2005-01-03  26.799999  26.950001  26.650000  26.740000  18.813702   65002900\n",
            "2005-01-04  26.870001  27.100000  26.660000  26.840000  18.884054  109442100\n",
            "2005-01-05  26.840000  27.100000  26.760000  26.780001  18.841841   72463500\n",
            "2005-01-06  26.850000  27.059999  26.639999  26.750000  18.820736   76890500\n",
            "2005-01-07  26.820000  26.889999  26.620001  26.670000  18.764446   68723300\n"
          ]
        }
      ]
    },
    {
      "cell_type": "markdown",
      "source": [
        "# 2.) Create your x_train/y_train data so that your RNN uses percent change data to make a binary forecast where the stock moves up or down the next day. Build an RNN Architecture accordingly"
      ],
      "metadata": {
        "id": "r5RJ3UuGAzfm"
      }
    },
    {
      "cell_type": "code",
      "source": [
        "# Calculating percent change\n",
        "df['pct_change'] = df['Adj Close'].pct_change()\n",
        "\n",
        "# Removing first row with NaN value\n",
        "df.dropna(inplace=True)\n",
        "\n",
        "# Define target variable\n",
        "df['target'] = np.where(df['pct_change'] > 0, 1, 0)\n",
        "\n",
        "# Define input variable\n",
        "X = df['pct_change'].values.reshape(-1, 1)\n",
        "\n",
        "# Define output variable\n",
        "y = df['target'].values\n",
        "\n",
        "# Splitting the data into train and test sets\n",
        "train_size = int(len(X) * 0.80)\n",
        "X_train, X_test = X[0:train_size], X[train_size:len(X)]\n",
        "y_train, y_test = y[0:train_size], y[train_size:len(y)]"
      ],
      "metadata": {
        "id": "S3Ru3__2A4kG"
      },
      "execution_count": 38,
      "outputs": []
    },
    {
      "cell_type": "code",
      "source": [
        "from tensorflow.keras.models import Sequential\n",
        "from tensorflow.keras.layers import Dense, LSTM\n",
        "\n",
        "# Reshaping input to be 3D [samples, timesteps, features]\n",
        "X_train = X_train.reshape((X_train.shape[0], 1, X_train.shape[1]))\n",
        "X_test = X_test.reshape((X_test.shape[0], 1, X_test.shape[1]))\n",
        "\n",
        "# Creating the model\n",
        "model = Sequential()\n",
        "model.add(LSTM(50, input_shape=(X_train.shape[1], X_train.shape[2])))\n",
        "model.add(Dense(1, activation='sigmoid'))\n",
        "model.compile(loss='binary_crossentropy', optimizer='adam', metrics=['accuracy'])\n",
        "\n",
        "# Training the model\n",
        "history = model.fit(X_train, y_train, epochs=50, batch_size=64, validation_data=(X_test, y_test), verbose=2)\n",
        "\n"
      ],
      "metadata": {
        "colab": {
          "base_uri": "https://localhost:8080/"
        },
        "id": "_CEgxqQzBMYh",
        "outputId": "01218ab1-61c6-4bb2-84d4-121478cdc587"
      },
      "execution_count": 39,
      "outputs": [
        {
          "output_type": "stream",
          "name": "stdout",
          "text": [
            "Epoch 1/50\n",
            "54/54 - 5s - loss: 0.6927 - accuracy: 0.5620 - val_loss: 0.6917 - val_accuracy: 0.6308 - 5s/epoch - 89ms/step\n",
            "Epoch 2/50\n",
            "54/54 - 0s - loss: 0.6915 - accuracy: 0.5143 - val_loss: 0.6893 - val_accuracy: 0.5829 - 315ms/epoch - 6ms/step\n",
            "Epoch 3/50\n",
            "54/54 - 0s - loss: 0.6896 - accuracy: 0.5380 - val_loss: 0.6854 - val_accuracy: 0.5771 - 309ms/epoch - 6ms/step\n",
            "Epoch 4/50\n",
            "54/54 - 0s - loss: 0.6863 - accuracy: 0.5985 - val_loss: 0.6813 - val_accuracy: 0.7313 - 329ms/epoch - 6ms/step\n",
            "Epoch 5/50\n",
            "54/54 - 0s - loss: 0.6813 - accuracy: 0.7350 - val_loss: 0.6737 - val_accuracy: 0.7862 - 333ms/epoch - 6ms/step\n",
            "Epoch 6/50\n",
            "54/54 - 0s - loss: 0.6738 - accuracy: 0.7431 - val_loss: 0.6643 - val_accuracy: 0.9965 - 251ms/epoch - 5ms/step\n",
            "Epoch 7/50\n",
            "54/54 - 0s - loss: 0.6632 - accuracy: 0.9328 - val_loss: 0.6485 - val_accuracy: 0.8575 - 253ms/epoch - 5ms/step\n",
            "Epoch 8/50\n",
            "54/54 - 0s - loss: 0.6499 - accuracy: 0.8495 - val_loss: 0.6302 - val_accuracy: 0.8400 - 202ms/epoch - 4ms/step\n",
            "Epoch 9/50\n",
            "54/54 - 0s - loss: 0.6341 - accuracy: 0.8475 - val_loss: 0.6143 - val_accuracy: 0.8984 - 199ms/epoch - 4ms/step\n",
            "Epoch 10/50\n",
            "54/54 - 0s - loss: 0.6149 - accuracy: 0.8293 - val_loss: 0.5915 - val_accuracy: 0.9019 - 218ms/epoch - 4ms/step\n",
            "Epoch 11/50\n",
            "54/54 - 0s - loss: 0.5927 - accuracy: 0.9541 - val_loss: 0.5598 - val_accuracy: 0.8914 - 213ms/epoch - 4ms/step\n",
            "Epoch 12/50\n",
            "54/54 - 0s - loss: 0.5697 - accuracy: 0.9231 - val_loss: 0.5330 - val_accuracy: 0.8914 - 210ms/epoch - 4ms/step\n",
            "Epoch 13/50\n",
            "54/54 - 0s - loss: 0.5458 - accuracy: 0.8910 - val_loss: 0.5074 - val_accuracy: 0.7827 - 201ms/epoch - 4ms/step\n",
            "Epoch 14/50\n",
            "54/54 - 0s - loss: 0.5225 - accuracy: 0.9094 - val_loss: 0.4822 - val_accuracy: 0.9673 - 226ms/epoch - 4ms/step\n",
            "Epoch 15/50\n",
            "54/54 - 0s - loss: 0.4978 - accuracy: 0.9702 - val_loss: 0.4603 - val_accuracy: 0.9603 - 223ms/epoch - 4ms/step\n",
            "Epoch 16/50\n",
            "54/54 - 0s - loss: 0.4749 - accuracy: 0.9392 - val_loss: 0.4332 - val_accuracy: 0.9871 - 247ms/epoch - 5ms/step\n",
            "Epoch 17/50\n",
            "54/54 - 0s - loss: 0.4534 - accuracy: 0.9468 - val_loss: 0.4151 - val_accuracy: 0.9463 - 251ms/epoch - 5ms/step\n",
            "Epoch 18/50\n",
            "54/54 - 0s - loss: 0.4321 - accuracy: 0.9655 - val_loss: 0.3917 - val_accuracy: 0.9720 - 244ms/epoch - 5ms/step\n",
            "Epoch 19/50\n",
            "54/54 - 0s - loss: 0.4118 - accuracy: 0.9605 - val_loss: 0.3703 - val_accuracy: 0.9930 - 211ms/epoch - 4ms/step\n",
            "Epoch 20/50\n",
            "54/54 - 0s - loss: 0.3940 - accuracy: 0.9655 - val_loss: 0.3541 - val_accuracy: 0.9708 - 219ms/epoch - 4ms/step\n",
            "Epoch 21/50\n",
            "54/54 - 0s - loss: 0.3761 - accuracy: 0.9836 - val_loss: 0.3349 - val_accuracy: 0.9953 - 214ms/epoch - 4ms/step\n",
            "Epoch 22/50\n",
            "54/54 - 0s - loss: 0.3601 - accuracy: 0.9696 - val_loss: 0.3193 - val_accuracy: 0.9942 - 251ms/epoch - 5ms/step\n",
            "Epoch 23/50\n",
            "54/54 - 0s - loss: 0.3454 - accuracy: 0.9746 - val_loss: 0.3055 - val_accuracy: 0.9953 - 244ms/epoch - 5ms/step\n",
            "Epoch 24/50\n",
            "54/54 - 0s - loss: 0.3318 - accuracy: 0.9717 - val_loss: 0.2931 - val_accuracy: 0.9871 - 248ms/epoch - 5ms/step\n",
            "Epoch 25/50\n",
            "54/54 - 0s - loss: 0.3176 - accuracy: 0.9839 - val_loss: 0.2789 - val_accuracy: 0.9731 - 258ms/epoch - 5ms/step\n",
            "Epoch 26/50\n",
            "54/54 - 0s - loss: 0.3062 - accuracy: 0.9775 - val_loss: 0.2689 - val_accuracy: 0.9953 - 248ms/epoch - 5ms/step\n",
            "Epoch 27/50\n",
            "54/54 - 0s - loss: 0.2952 - accuracy: 0.9784 - val_loss: 0.2592 - val_accuracy: 0.9871 - 218ms/epoch - 4ms/step\n",
            "Epoch 28/50\n",
            "54/54 - 0s - loss: 0.2844 - accuracy: 0.9828 - val_loss: 0.2536 - val_accuracy: 0.9556 - 212ms/epoch - 4ms/step\n",
            "Epoch 29/50\n",
            "54/54 - 0s - loss: 0.2748 - accuracy: 0.9813 - val_loss: 0.2420 - val_accuracy: 0.9778 - 250ms/epoch - 5ms/step\n",
            "Epoch 30/50\n",
            "54/54 - 0s - loss: 0.2658 - accuracy: 0.9717 - val_loss: 0.2308 - val_accuracy: 0.9871 - 249ms/epoch - 5ms/step\n",
            "Epoch 31/50\n",
            "54/54 - 0s - loss: 0.2567 - accuracy: 0.9836 - val_loss: 0.2258 - val_accuracy: 0.9778 - 256ms/epoch - 5ms/step\n",
            "Epoch 32/50\n",
            "54/54 - 0s - loss: 0.2482 - accuracy: 0.9734 - val_loss: 0.2198 - val_accuracy: 0.9661 - 276ms/epoch - 5ms/step\n",
            "Epoch 33/50\n",
            "54/54 - 0s - loss: 0.2412 - accuracy: 0.9743 - val_loss: 0.2093 - val_accuracy: 1.0000 - 270ms/epoch - 5ms/step\n",
            "Epoch 34/50\n",
            "54/54 - 0s - loss: 0.2335 - accuracy: 0.9828 - val_loss: 0.2039 - val_accuracy: 0.9871 - 227ms/epoch - 4ms/step\n",
            "Epoch 35/50\n",
            "54/54 - 0s - loss: 0.2264 - accuracy: 0.9787 - val_loss: 0.2000 - val_accuracy: 0.9708 - 256ms/epoch - 5ms/step\n",
            "Epoch 36/50\n",
            "54/54 - 0s - loss: 0.2205 - accuracy: 0.9892 - val_loss: 0.1931 - val_accuracy: 0.9801 - 256ms/epoch - 5ms/step\n",
            "Epoch 37/50\n",
            "54/54 - 0s - loss: 0.2146 - accuracy: 0.9822 - val_loss: 0.1855 - val_accuracy: 0.9918 - 219ms/epoch - 4ms/step\n",
            "Epoch 38/50\n",
            "54/54 - 0s - loss: 0.2084 - accuracy: 0.9880 - val_loss: 0.1806 - val_accuracy: 0.9813 - 221ms/epoch - 4ms/step\n",
            "Epoch 39/50\n",
            "54/54 - 0s - loss: 0.2036 - accuracy: 0.9781 - val_loss: 0.1815 - val_accuracy: 0.9591 - 223ms/epoch - 4ms/step\n",
            "Epoch 40/50\n",
            "54/54 - 0s - loss: 0.1984 - accuracy: 0.9775 - val_loss: 0.1716 - val_accuracy: 0.9953 - 266ms/epoch - 5ms/step\n",
            "Epoch 41/50\n",
            "54/54 - 0s - loss: 0.1942 - accuracy: 0.9813 - val_loss: 0.1676 - val_accuracy: 0.9907 - 216ms/epoch - 4ms/step\n",
            "Epoch 42/50\n",
            "54/54 - 0s - loss: 0.1883 - accuracy: 0.9868 - val_loss: 0.1631 - val_accuracy: 0.9953 - 231ms/epoch - 4ms/step\n",
            "Epoch 43/50\n",
            "54/54 - 0s - loss: 0.1837 - accuracy: 0.9892 - val_loss: 0.1595 - val_accuracy: 0.9918 - 250ms/epoch - 5ms/step\n",
            "Epoch 44/50\n",
            "54/54 - 0s - loss: 0.1796 - accuracy: 0.9868 - val_loss: 0.1555 - val_accuracy: 0.9953 - 225ms/epoch - 4ms/step\n",
            "Epoch 45/50\n",
            "54/54 - 0s - loss: 0.1755 - accuracy: 0.9904 - val_loss: 0.1541 - val_accuracy: 0.9801 - 212ms/epoch - 4ms/step\n",
            "Epoch 46/50\n",
            "54/54 - 0s - loss: 0.1721 - accuracy: 0.9848 - val_loss: 0.1484 - val_accuracy: 1.0000 - 220ms/epoch - 4ms/step\n",
            "Epoch 47/50\n",
            "54/54 - 0s - loss: 0.1684 - accuracy: 0.9842 - val_loss: 0.1453 - val_accuracy: 0.9965 - 248ms/epoch - 5ms/step\n",
            "Epoch 48/50\n",
            "54/54 - 0s - loss: 0.1637 - accuracy: 0.9936 - val_loss: 0.1421 - val_accuracy: 0.9942 - 325ms/epoch - 6ms/step\n",
            "Epoch 49/50\n",
            "54/54 - 0s - loss: 0.1605 - accuracy: 0.9906 - val_loss: 0.1393 - val_accuracy: 0.9953 - 312ms/epoch - 6ms/step\n",
            "Epoch 50/50\n",
            "54/54 - 0s - loss: 0.1577 - accuracy: 0.9898 - val_loss: 0.1366 - val_accuracy: 0.9930 - 363ms/epoch - 7ms/step\n"
          ]
        }
      ]
    },
    {
      "cell_type": "markdown",
      "source": [
        "# 3.) Test your model and compare Accuracies listed in the notebook using a Barchart"
      ],
      "metadata": {
        "id": "nJm1CKkcFb-P"
      }
    },
    {
      "cell_type": "code",
      "source": [
        "# Evaluating the model\n",
        "_, accuracy = model.evaluate(X_test, y_test, verbose=0)\n",
        "print('Accuracy: %.2f' % (accuracy*100))"
      ],
      "metadata": {
        "colab": {
          "base_uri": "https://localhost:8080/"
        },
        "id": "rdMlZgHkGnU3",
        "outputId": "77d631d9-66d8-4af7-80ac-450fb0a5c139"
      },
      "execution_count": 40,
      "outputs": [
        {
          "output_type": "stream",
          "name": "stdout",
          "text": [
            "Accuracy: 99.30\n"
          ]
        }
      ]
    },
    {
      "cell_type": "code",
      "source": [
        "import matplotlib.pyplot as plt\n",
        "\n",
        "# Define the models and their accuracies\n",
        "models = {\n",
        "    'LSTM': accuracy\n",
        "}\n",
        "\n",
        "# Plot the accuracies\n",
        "plt.bar(models.keys(), models.values())\n",
        "plt.title('Bar Chart for Model Accuracies')\n",
        "plt.xlabel('Model')\n",
        "plt.ylabel('Accuracy')\n",
        "plt.ylim((0, 10))\n",
        "plt.show()"
      ],
      "metadata": {
        "colab": {
          "base_uri": "https://localhost:8080/",
          "height": 295
        },
        "id": "VOm6hDqhB4y0",
        "outputId": "f5aa6442-ce51-415a-be20-9827fc5350d1"
      },
      "execution_count": 41,
      "outputs": [
        {
          "output_type": "display_data",
          "data": {
            "text/plain": [
              "<Figure size 432x288 with 1 Axes>"
            ],
            "image/png": "[encoded data removed]"
          },
          "metadata": {
            "needs_background": "light"
          }
        }
      ]
    },
    {
      "cell_type": "markdown",
      "source": [
        "# 4.) Plot in and out of sample accuracy"
      ],
      "metadata": {
        "id": "YSp8R1aHF44g"
      }
    },
    {
      "cell_type": "code",
      "source": [
        "plt.plot(history.history['accuracy'])\n",
        "plt.plot(history.history['val_accuracy'])\n",
        "plt.title('Model Accuracy')\n",
        "plt.ylabel('Accuracy')\n",
        "plt.xlabel('Epoch')\n",
        "plt.legend(['In_sample', 'Out_of_Sample'], loc='upper left')\n",
        "plt.show()"
      ],
      "metadata": {
        "colab": {
          "base_uri": "https://localhost:8080/",
          "height": 295
        },
        "id": "9OgyObIgFFjf",
        "outputId": "ce115d7e-cb5f-4848-a796-eb0c9c570b61"
      },
      "execution_count": 43,
      "outputs": [
        {
          "output_type": "display_data",
          "data": {
            "text/plain": [
              "<Figure size 432x288 with 1 Axes>"
            ],
            "image/png": "[encoded data removed]"
          },
          "metadata": {
            "needs_background": "light"
          }
        }
      ]
    },
    {
      "cell_type": "markdown",
      "source": [
        "# 5.) Write an observation/cponclusion about the graphs from Q3/Q4"
      ],
      "metadata": {
        "id": "kkq7ZDR9JWo6"
      }
    },
    {
      "cell_type": "markdown",
      "source": [
        "# The model appears to be overfitting to the training data. The accuracy on the training set is high (above 90%), but the accuracy on the validation set is much lower (around 80%). Additionally, the validation loss increases after the first few epochs while the training loss continues to decrease. From the Bar Chart we observe, the model accuracies is almost constant. "
      ],
      "metadata": {
        "id": "0v1XzXCdGTEy"
      }
    }
  ]
}