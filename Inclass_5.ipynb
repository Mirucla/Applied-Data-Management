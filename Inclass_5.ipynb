{
  "nbformat": 4,
  "nbformat_minor": 0,
  "metadata": {
    "colab": {
      "provenance": [],
      "authorship_tag": "ABX9TyPH3B7BpdGKpfHY67FfHxzf",
      "include_colab_link": true
    },
    "kernelspec": {
      "name": "python3",
      "display_name": "Python 3"
    },
    "language_info": {
      "name": "python"
    }
  },
  "cells": [
    {
      "cell_type": "markdown",
      "metadata": {
        "id": "view-in-github",
        "colab_type": "text"
      },
      "source": [
        "<a href=\"https://colab.research.google.com/github/Mirucla/Applied-Data-Management/blob/main/Inclass_5.ipynb\" target=\"_parent\"><img src=\"https://colab.research.google.com/assets/colab-badge.svg\" alt=\"Open In Colab\"/></a>"
      ]
    },
    {
      "cell_type": "code",
      "execution_count": 38,
      "metadata": {
        "id": "QlQsvsGY1vDT"
      },
      "outputs": [],
      "source": [
        "import pandas as pd\n",
        "from google.colab import drive\n",
        "import matplotlib.pyplot as plt\n",
        "import numpy as np\n",
        "from sklearn.model_selection import train_test_split\n",
        "from sklearn.metrics import accuracy_score"
      ]
    },
    {
      "cell_type": "code",
      "source": [
        "drive.mount('/content/gdrive/', force_remount = True)"
      ],
      "metadata": {
        "colab": {
          "base_uri": "https://localhost:8080/"
        },
        "id": "iQF_pKh114yO",
        "outputId": "bd648772-8ac4-4127-c949-67b9e66f9ca5"
      },
      "execution_count": 2,
      "outputs": [
        {
          "output_type": "stream",
          "name": "stdout",
          "text": [
            "Mounted at /content/gdrive/\n"
          ]
        }
      ]
    },
    {
      "cell_type": "markdown",
      "source": [
        "# 1) Import US perm Visas csv from CCLE using zip extractor"
      ],
      "metadata": {
        "id": "OkV8utka2SrB"
      }
    },
    {
      "cell_type": "code",
      "source": [
        "from zipfile import ZipFile\n",
        "with ZipFile('/content/gdrive/MyDrive/us_perm_visas.csv.zip','r') as zip_object:\n",
        "  zip_object.extractall()\n",
        "  zip_object.extract('us_perm_visas.csv')"
      ],
      "metadata": {
        "id": "NcooUR7_2Kl8"
      },
      "execution_count": 3,
      "outputs": []
    },
    {
      "cell_type": "code",
      "source": [
        "df=pd.read_csv('us_perm_visas.csv')"
      ],
      "metadata": {
        "colab": {
          "base_uri": "https://localhost:8080/"
        },
        "id": "wWTjWZQY2lqe",
        "outputId": "a8873a53-7ffe-4937-9a9f-a23da2be77a9"
      },
      "execution_count": 4,
      "outputs": [
        {
          "output_type": "stream",
          "name": "stderr",
          "text": [
            "/usr/local/lib/python3.8/dist-packages/IPython/core/interactiveshell.py:3326: DtypeWarning: Columns (0,1,2,3,4,5,6,7,10,11,16,17,20,21,22,25,26,27,28,29,30,31,32,33,34,35,36,37,39,40,41,42,43,44,45,47,48,49,50,51,52,53,55,56,57,58,59,60,61,63,64,65,66,68,69,70,71,72,73,74,77,79,80,81,82,83,84,85,86,87,88,89,90,91,92,93,94,95,100,101,103,104,105,106,107,108,109,110,111,112,113,114,115,116,117,118,119,120,121,122,123,124,125,126,127,128,129,130,131,132,133,134,135,136,137,138,139,140,141,142,143,144,145,146,147,148,149,150,153) have mixed types.Specify dtype option on import or set low_memory=False.\n",
            "  exec(code_obj, self.user_global_ns, self.user_ns)\n"
          ]
        }
      ]
    },
    {
      "cell_type": "code",
      "source": [
        "df.shape"
      ],
      "metadata": {
        "colab": {
          "base_uri": "https://localhost:8080/"
        },
        "id": "zmX2mvoz2urV",
        "outputId": "20ddb0f5-a3d8-4f19-b793-5c6aedf6231f"
      },
      "execution_count": 5,
      "outputs": [
        {
          "output_type": "execute_result",
          "data": {
            "text/plain": [
              "(374362, 154)"
            ]
          },
          "metadata": {},
          "execution_count": 5
        }
      ]
    },
    {
      "cell_type": "code",
      "source": [
        "df.tail(100)"
      ],
      "metadata": {
        "colab": {
          "base_uri": "https://localhost:8080/",
          "height": 748
        },
        "id": "lqK3oOFR527X",
        "outputId": "abbb75d8-ece8-4169-80e0-325f16f794c8"
      },
      "execution_count": 6,
      "outputs": [
        {
          "output_type": "execute_result",
          "data": {
            "text/plain": [
              "       add_these_pw_job_title_9089        agent_city  \\\n",
              "374262                         NaN           Herndon   \n",
              "374263                         NaN         San Diego   \n",
              "374264                         NaN       Santa Clara   \n",
              "374265                         NaN  Bloomfield Hills   \n",
              "374266                         NaN        Washington   \n",
              "...                            ...               ...   \n",
              "374357                         NaN        Buena Park   \n",
              "374358                         NaN           Seattle   \n",
              "374359                         NaN        Schaumburg   \n",
              "374360                         NaN       LOS ANGELES   \n",
              "374361                         NaN           Phoenix   \n",
              "\n",
              "                                          agent_firm_name agent_state  \\\n",
              "374262                LAW OFFICES OF JANETHA R. KANCHARLA          VA   \n",
              "374263                         Law Office of Peter D. Chu          CA   \n",
              "374264            Fragomen, Del Rey, Bernsen & Loewy, LLP          CA   \n",
              "374265                LAW OFFICE OF RAJAGURU NALLIAH INC.          MI   \n",
              "374266                        Immigration Law Group, P.C.          DC   \n",
              "...                                                   ...         ...   \n",
              "374357                           Law Offices of Yohan Lee          CA   \n",
              "374358                         MacDonald Hoague & Bayless          WA   \n",
              "374359  International Legal and Business Services Grou...          IL   \n",
              "374360                        LAW OFFICES OF JAMES S HONG          CA   \n",
              "374361            Fragomen, Del Rey, Bernsen & Loewy, LLP          AZ   \n",
              "\n",
              "       application_type case_no    case_number case_received_date case_status  \\\n",
              "374262              NaN     NaN  A-16292-62620         2016-10-18   Certified   \n",
              "374263              NaN     NaN  A-16291-62562         2016-10-18   Certified   \n",
              "374264              NaN     NaN  A-16291-62588         2016-10-18   Certified   \n",
              "374265              NaN     NaN  A-16291-62457         2016-10-18   Certified   \n",
              "374266              NaN     NaN  A-16292-62644         2016-10-18   Certified   \n",
              "...                 ...     ...            ...                ...         ...   \n",
              "374357              NaN     NaN  A-16363-85407         2016-12-29   Withdrawn   \n",
              "374358              NaN     NaN  A-16271-56745         2016-12-30   Withdrawn   \n",
              "374359              NaN     NaN  A-16354-82345         2016-12-30   Withdrawn   \n",
              "374360              NaN     NaN  A-16357-84250         2016-12-30   Withdrawn   \n",
              "374361              NaN     NaN  A-16279-59292         2016-12-30   Withdrawn   \n",
              "\n",
              "       class_of_admission  ... ri_pvt_employment_firm_to  \\\n",
              "374262               H-1B  ...                       NaN   \n",
              "374263               H-1B  ...                2016-08-12   \n",
              "374264                L-1  ...                       NaN   \n",
              "374265               H-1B  ...                       NaN   \n",
              "374266                F-1  ...                       NaN   \n",
              "...                   ...  ...                       ...   \n",
              "374357                NaN  ...                       NaN   \n",
              "374358                L-1  ...                       NaN   \n",
              "374359               H-1B  ...                       NaN   \n",
              "374360                B-2  ...                       NaN   \n",
              "374361               H-1B  ...                       NaN   \n",
              "\n",
              "       ri_us_workers_considered schd_a_sheepherder us_economic_sector  \\\n",
              "374262                      NaN                  N                NaN   \n",
              "374263                      NaN                  N                NaN   \n",
              "374264                        A                  N                NaN   \n",
              "374265                      NaN                  N                NaN   \n",
              "374266                      NaN                  N                NaN   \n",
              "...                         ...                ...                ...   \n",
              "374357                      NaN                  N                NaN   \n",
              "374358                        Y                  N                NaN   \n",
              "374359                      NaN                  N                NaN   \n",
              "374360                      NaN                  N                NaN   \n",
              "374361                      NaN                  N                NaN   \n",
              "\n",
              "       wage_offer_from_9089 wage_offer_to_9089 wage_offer_unit_of_pay_9089  \\\n",
              "374262            88,878.00          88,878.00                        Year   \n",
              "374263           114,587.00                NaN                        Year   \n",
              "374264           105,000.00                NaN                        Year   \n",
              "374265            79,539.00                NaN                        Year   \n",
              "374266            50,000.00                NaN                        Year   \n",
              "...                     ...                ...                         ...   \n",
              "374357            28,330.00                NaN                        Year   \n",
              "374358           122,000.00         142,000.00                        Year   \n",
              "374359            79,082.00          79,082.00                        Year   \n",
              "374360            37,981.00                NaN                        Year   \n",
              "374361            84,926.00         121,500.00                        Year   \n",
              "\n",
              "       wage_offered_from_9089 wage_offered_to_9089  \\\n",
              "374262                    NaN                  NaN   \n",
              "374263                    NaN                  NaN   \n",
              "374264                    NaN                  NaN   \n",
              "374265                    NaN                  NaN   \n",
              "374266                    NaN                  NaN   \n",
              "...                       ...                  ...   \n",
              "374357                    NaN                  NaN   \n",
              "374358                    NaN                  NaN   \n",
              "374359                    NaN                  NaN   \n",
              "374360                    NaN                  NaN   \n",
              "374361                    NaN                  NaN   \n",
              "\n",
              "        wage_offered_unit_of_pay_9089  \n",
              "374262                            NaN  \n",
              "374263                            NaN  \n",
              "374264                            NaN  \n",
              "374265                            NaN  \n",
              "374266                            NaN  \n",
              "...                               ...  \n",
              "374357                            NaN  \n",
              "374358                            NaN  \n",
              "374359                            NaN  \n",
              "374360                            NaN  \n",
              "374361                            NaN  \n",
              "\n",
              "[100 rows x 154 columns]"
            ],
            "text/html": [
              "\n",
              "  <div id=\"df-f5b47384-1939-4dfd-9b99-ff5a0d4ffb1c\">\n",
              "    <div class=\"colab-df-container\">\n",
              "      <div>\n",
              "<style scoped>\n",
              "    .dataframe tbody tr th:only-of-type {\n",
              "        vertical-align: middle;\n",
              "    }\n",
              "\n",
              "    .dataframe tbody tr th {\n",
              "        vertical-align: top;\n",
              "    }\n",
              "\n",
              "    .dataframe thead th {\n",
              "        text-align: right;\n",
              "    }\n",
              "</style>\n",
              "<table border=\"1\" class=\"dataframe\">\n",
              "  <thead>\n",
              "    <tr style=\"text-align: right;\">\n",
              "      <th></th>\n",
              "      <th>add_these_pw_job_title_9089</th>\n",
              "      <th>agent_city</th>\n",
              "      <th>agent_firm_name</th>\n",
              "      <th>agent_state</th>\n",
              "      <th>application_type</th>\n",
              "      <th>case_no</th>\n",
              "      <th>case_number</th>\n",
              "      <th>case_received_date</th>\n",
              "      <th>case_status</th>\n",
              "      <th>class_of_admission</th>\n",
              "      <th>...</th>\n",
              "      <th>ri_pvt_employment_firm_to</th>\n",
              "      <th>ri_us_workers_considered</th>\n",
              "      <th>schd_a_sheepherder</th>\n",
              "      <th>us_economic_sector</th>\n",
              "      <th>wage_offer_from_9089</th>\n",
              "      <th>wage_offer_to_9089</th>\n",
              "      <th>wage_offer_unit_of_pay_9089</th>\n",
              "      <th>wage_offered_from_9089</th>\n",
              "      <th>wage_offered_to_9089</th>\n",
              "      <th>wage_offered_unit_of_pay_9089</th>\n",
              "    </tr>\n",
              "  </thead>\n",
              "  <tbody>\n",
              "    <tr>\n",
              "      <th>374262</th>\n",
              "      <td>NaN</td>\n",
              "      <td>Herndon</td>\n",
              "      <td>LAW OFFICES OF JANETHA R. KANCHARLA</td>\n",
              "      <td>VA</td>\n",
              "      <td>NaN</td>\n",
              "      <td>NaN</td>\n",
              "      <td>A-16292-62620</td>\n",
              "      <td>2016-10-18</td>\n",
              "      <td>Certified</td>\n",
              "      <td>H-1B</td>\n",
              "      <td>...</td>\n",
              "      <td>NaN</td>\n",
              "      <td>NaN</td>\n",
              "      <td>N</td>\n",
              "      <td>NaN</td>\n",
              "      <td>88,878.00</td>\n",
              "      <td>88,878.00</td>\n",
              "      <td>Year</td>\n",
              "      <td>NaN</td>\n",
              "      <td>NaN</td>\n",
              "      <td>NaN</td>\n",
              "    </tr>\n",
              "    <tr>\n",
              "      <th>374263</th>\n",
              "      <td>NaN</td>\n",
              "      <td>San Diego</td>\n",
              "      <td>Law Office of Peter D. Chu</td>\n",
              "      <td>CA</td>\n",
              "      <td>NaN</td>\n",
              "      <td>NaN</td>\n",
              "      <td>A-16291-62562</td>\n",
              "      <td>2016-10-18</td>\n",
              "      <td>Certified</td>\n",
              "      <td>H-1B</td>\n",
              "      <td>...</td>\n",
              "      <td>2016-08-12</td>\n",
              "      <td>NaN</td>\n",
              "      <td>N</td>\n",
              "      <td>NaN</td>\n",
              "      <td>114,587.00</td>\n",
              "      <td>NaN</td>\n",
              "      <td>Year</td>\n",
              "      <td>NaN</td>\n",
              "      <td>NaN</td>\n",
              "      <td>NaN</td>\n",
              "    </tr>\n",
              "    <tr>\n",
              "      <th>374264</th>\n",
              "      <td>NaN</td>\n",
              "      <td>Santa Clara</td>\n",
              "      <td>Fragomen, Del Rey, Bernsen &amp; Loewy, LLP</td>\n",
              "      <td>CA</td>\n",
              "      <td>NaN</td>\n",
              "      <td>NaN</td>\n",
              "      <td>A-16291-62588</td>\n",
              "      <td>2016-10-18</td>\n",
              "      <td>Certified</td>\n",
              "      <td>L-1</td>\n",
              "      <td>...</td>\n",
              "      <td>NaN</td>\n",
              "      <td>A</td>\n",
              "      <td>N</td>\n",
              "      <td>NaN</td>\n",
              "      <td>105,000.00</td>\n",
              "      <td>NaN</td>\n",
              "      <td>Year</td>\n",
              "      <td>NaN</td>\n",
              "      <td>NaN</td>\n",
              "      <td>NaN</td>\n",
              "    </tr>\n",
              "    <tr>\n",
              "      <th>374265</th>\n",
              "      <td>NaN</td>\n",
              "      <td>Bloomfield Hills</td>\n",
              "      <td>LAW OFFICE OF RAJAGURU NALLIAH INC.</td>\n",
              "      <td>MI</td>\n",
              "      <td>NaN</td>\n",
              "      <td>NaN</td>\n",
              "      <td>A-16291-62457</td>\n",
              "      <td>2016-10-18</td>\n",
              "      <td>Certified</td>\n",
              "      <td>H-1B</td>\n",
              "      <td>...</td>\n",
              "      <td>NaN</td>\n",
              "      <td>NaN</td>\n",
              "      <td>N</td>\n",
              "      <td>NaN</td>\n",
              "      <td>79,539.00</td>\n",
              "      <td>NaN</td>\n",
              "      <td>Year</td>\n",
              "      <td>NaN</td>\n",
              "      <td>NaN</td>\n",
              "      <td>NaN</td>\n",
              "    </tr>\n",
              "    <tr>\n",
              "      <th>374266</th>\n",
              "      <td>NaN</td>\n",
              "      <td>Washington</td>\n",
              "      <td>Immigration Law Group, P.C.</td>\n",
              "      <td>DC</td>\n",
              "      <td>NaN</td>\n",
              "      <td>NaN</td>\n",
              "      <td>A-16292-62644</td>\n",
              "      <td>2016-10-18</td>\n",
              "      <td>Certified</td>\n",
              "      <td>F-1</td>\n",
              "      <td>...</td>\n",
              "      <td>NaN</td>\n",
              "      <td>NaN</td>\n",
              "      <td>N</td>\n",
              "      <td>NaN</td>\n",
              "      <td>50,000.00</td>\n",
              "      <td>NaN</td>\n",
              "      <td>Year</td>\n",
              "      <td>NaN</td>\n",
              "      <td>NaN</td>\n",
              "      <td>NaN</td>\n",
              "    </tr>\n",
              "    <tr>\n",
              "      <th>...</th>\n",
              "      <td>...</td>\n",
              "      <td>...</td>\n",
              "      <td>...</td>\n",
              "      <td>...</td>\n",
              "      <td>...</td>\n",
              "      <td>...</td>\n",
              "      <td>...</td>\n",
              "      <td>...</td>\n",
              "      <td>...</td>\n",
              "      <td>...</td>\n",
              "      <td>...</td>\n",
              "      <td>...</td>\n",
              "      <td>...</td>\n",
              "      <td>...</td>\n",
              "      <td>...</td>\n",
              "      <td>...</td>\n",
              "      <td>...</td>\n",
              "      <td>...</td>\n",
              "      <td>...</td>\n",
              "      <td>...</td>\n",
              "      <td>...</td>\n",
              "    </tr>\n",
              "    <tr>\n",
              "      <th>374357</th>\n",
              "      <td>NaN</td>\n",
              "      <td>Buena Park</td>\n",
              "      <td>Law Offices of Yohan Lee</td>\n",
              "      <td>CA</td>\n",
              "      <td>NaN</td>\n",
              "      <td>NaN</td>\n",
              "      <td>A-16363-85407</td>\n",
              "      <td>2016-12-29</td>\n",
              "      <td>Withdrawn</td>\n",
              "      <td>NaN</td>\n",
              "      <td>...</td>\n",
              "      <td>NaN</td>\n",
              "      <td>NaN</td>\n",
              "      <td>N</td>\n",
              "      <td>NaN</td>\n",
              "      <td>28,330.00</td>\n",
              "      <td>NaN</td>\n",
              "      <td>Year</td>\n",
              "      <td>NaN</td>\n",
              "      <td>NaN</td>\n",
              "      <td>NaN</td>\n",
              "    </tr>\n",
              "    <tr>\n",
              "      <th>374358</th>\n",
              "      <td>NaN</td>\n",
              "      <td>Seattle</td>\n",
              "      <td>MacDonald Hoague &amp; Bayless</td>\n",
              "      <td>WA</td>\n",
              "      <td>NaN</td>\n",
              "      <td>NaN</td>\n",
              "      <td>A-16271-56745</td>\n",
              "      <td>2016-12-30</td>\n",
              "      <td>Withdrawn</td>\n",
              "      <td>L-1</td>\n",
              "      <td>...</td>\n",
              "      <td>NaN</td>\n",
              "      <td>Y</td>\n",
              "      <td>N</td>\n",
              "      <td>NaN</td>\n",
              "      <td>122,000.00</td>\n",
              "      <td>142,000.00</td>\n",
              "      <td>Year</td>\n",
              "      <td>NaN</td>\n",
              "      <td>NaN</td>\n",
              "      <td>NaN</td>\n",
              "    </tr>\n",
              "    <tr>\n",
              "      <th>374359</th>\n",
              "      <td>NaN</td>\n",
              "      <td>Schaumburg</td>\n",
              "      <td>International Legal and Business Services Grou...</td>\n",
              "      <td>IL</td>\n",
              "      <td>NaN</td>\n",
              "      <td>NaN</td>\n",
              "      <td>A-16354-82345</td>\n",
              "      <td>2016-12-30</td>\n",
              "      <td>Withdrawn</td>\n",
              "      <td>H-1B</td>\n",
              "      <td>...</td>\n",
              "      <td>NaN</td>\n",
              "      <td>NaN</td>\n",
              "      <td>N</td>\n",
              "      <td>NaN</td>\n",
              "      <td>79,082.00</td>\n",
              "      <td>79,082.00</td>\n",
              "      <td>Year</td>\n",
              "      <td>NaN</td>\n",
              "      <td>NaN</td>\n",
              "      <td>NaN</td>\n",
              "    </tr>\n",
              "    <tr>\n",
              "      <th>374360</th>\n",
              "      <td>NaN</td>\n",
              "      <td>LOS ANGELES</td>\n",
              "      <td>LAW OFFICES OF JAMES S HONG</td>\n",
              "      <td>CA</td>\n",
              "      <td>NaN</td>\n",
              "      <td>NaN</td>\n",
              "      <td>A-16357-84250</td>\n",
              "      <td>2016-12-30</td>\n",
              "      <td>Withdrawn</td>\n",
              "      <td>B-2</td>\n",
              "      <td>...</td>\n",
              "      <td>NaN</td>\n",
              "      <td>NaN</td>\n",
              "      <td>N</td>\n",
              "      <td>NaN</td>\n",
              "      <td>37,981.00</td>\n",
              "      <td>NaN</td>\n",
              "      <td>Year</td>\n",
              "      <td>NaN</td>\n",
              "      <td>NaN</td>\n",
              "      <td>NaN</td>\n",
              "    </tr>\n",
              "    <tr>\n",
              "      <th>374361</th>\n",
              "      <td>NaN</td>\n",
              "      <td>Phoenix</td>\n",
              "      <td>Fragomen, Del Rey, Bernsen &amp; Loewy, LLP</td>\n",
              "      <td>AZ</td>\n",
              "      <td>NaN</td>\n",
              "      <td>NaN</td>\n",
              "      <td>A-16279-59292</td>\n",
              "      <td>2016-12-30</td>\n",
              "      <td>Withdrawn</td>\n",
              "      <td>H-1B</td>\n",
              "      <td>...</td>\n",
              "      <td>NaN</td>\n",
              "      <td>NaN</td>\n",
              "      <td>N</td>\n",
              "      <td>NaN</td>\n",
              "      <td>84,926.00</td>\n",
              "      <td>121,500.00</td>\n",
              "      <td>Year</td>\n",
              "      <td>NaN</td>\n",
              "      <td>NaN</td>\n",
              "      <td>NaN</td>\n",
              "    </tr>\n",
              "  </tbody>\n",
              "</table>\n",
              "<p>100 rows × 154 columns</p>\n",
              "</div>\n",
              "      <button class=\"colab-df-convert\" onclick=\"convertToInteractive('df-f5b47384-1939-4dfd-9b99-ff5a0d4ffb1c')\"\n",
              "              title=\"Convert this dataframe to an interactive table.\"\n",
              "              style=\"display:none;\">\n",
              "        \n",
              "  <svg xmlns=\"http://www.w3.org/2000/svg\" height=\"24px\"viewBox=\"0 0 24 24\"\n",
              "       width=\"24px\">\n",
              "    <path d=\"M0 0h24v24H0V0z\" fill=\"none\"/>\n",
              "    <path d=\"M18.56 5.44l.94 2.06.94-2.06 2.06-.94-2.06-.94-.94-2.06-.94 2.06-2.06.94zm-11 1L8.5 8.5l.94-2.06 2.06-.94-2.06-.94L8.5 2.5l-.94 2.06-2.06.94zm10 10l.94 2.06.94-2.06 2.06-.94-2.06-.94-.94-2.06-.94 2.06-2.06.94z\"/><path d=\"M17.41 7.96l-1.37-1.37c-.4-.4-.92-.59-1.43-.59-.52 0-1.04.2-1.43.59L10.3 9.45l-7.72 7.72c-.78.78-.78 2.05 0 2.83L4 21.41c.39.39.9.59 1.41.59.51 0 1.02-.2 1.41-.59l7.78-7.78 2.81-2.81c.8-.78.8-2.07 0-2.86zM5.41 20L4 18.59l7.72-7.72 1.47 1.35L5.41 20z\"/>\n",
              "  </svg>\n",
              "      </button>\n",
              "      \n",
              "  <style>\n",
              "    .colab-df-container {\n",
              "      display:flex;\n",
              "      flex-wrap:wrap;\n",
              "      gap: 12px;\n",
              "    }\n",
              "\n",
              "    .colab-df-convert {\n",
              "      background-color: #E8F0FE;\n",
              "      border: none;\n",
              "      border-radius: 50%;\n",
              "      cursor: pointer;\n",
              "      display: none;\n",
              "      fill: #1967D2;\n",
              "      height: 32px;\n",
              "      padding: 0 0 0 0;\n",
              "      width: 32px;\n",
              "    }\n",
              "\n",
              "    .colab-df-convert:hover {\n",
              "      background-color: #E2EBFA;\n",
              "      box-shadow: 0px 1px 2px rgba(60, 64, 67, 0.3), 0px 1px 3px 1px rgba(60, 64, 67, 0.15);\n",
              "      fill: #174EA6;\n",
              "    }\n",
              "\n",
              "    [theme=dark] .colab-df-convert {\n",
              "      background-color: #3B4455;\n",
              "      fill: #D2E3FC;\n",
              "    }\n",
              "\n",
              "    [theme=dark] .colab-df-convert:hover {\n",
              "      background-color: #434B5C;\n",
              "      box-shadow: 0px 1px 3px 1px rgba(0, 0, 0, 0.15);\n",
              "      filter: drop-shadow(0px 1px 2px rgba(0, 0, 0, 0.3));\n",
              "      fill: #FFFFFF;\n",
              "    }\n",
              "  </style>\n",
              "\n",
              "      <script>\n",
              "        const buttonEl =\n",
              "          document.querySelector('#df-f5b47384-1939-4dfd-9b99-ff5a0d4ffb1c button.colab-df-convert');\n",
              "        buttonEl.style.display =\n",
              "          google.colab.kernel.accessAllowed ? 'block' : 'none';\n",
              "\n",
              "        async function convertToInteractive(key) {\n",
              "          const element = document.querySelector('#df-f5b47384-1939-4dfd-9b99-ff5a0d4ffb1c');\n",
              "          const dataTable =\n",
              "            await google.colab.kernel.invokeFunction('convertToInteractive',\n",
              "                                                     [key], {});\n",
              "          if (!dataTable) return;\n",
              "\n",
              "          const docLinkHtml = 'Like what you see? Visit the ' +\n",
              "            '<a target=\"_blank\" href=https://colab.research.google.com/notebooks/data_table.ipynb>data table notebook</a>'\n",
              "            + ' to learn more about interactive tables.';\n",
              "          element.innerHTML = '';\n",
              "          dataTable['output_type'] = 'display_data';\n",
              "          await google.colab.output.renderOutput(dataTable, element);\n",
              "          const docLink = document.createElement('div');\n",
              "          docLink.innerHTML = docLinkHtml;\n",
              "          element.appendChild(docLink);\n",
              "        }\n",
              "      </script>\n",
              "    </div>\n",
              "  </div>\n",
              "  "
            ]
          },
          "metadata": {},
          "execution_count": 6
        }
      ]
    },
    {
      "cell_type": "markdown",
      "source": [
        "# 2) Choose 4 features you think are important. Case_status is your target variable"
      ],
      "metadata": {
        "id": "KJMEjr0HBZUD"
      }
    },
    {
      "cell_type": "code",
      "source": [
        "df2=df[['agent_city','agent_state','agent_firm_name', 'class_of_admission','case_status']]"
      ],
      "metadata": {
        "id": "GRCcLhYP253p"
      },
      "execution_count": 7,
      "outputs": []
    },
    {
      "cell_type": "code",
      "source": [
        "df2.head(100)"
      ],
      "metadata": {
        "colab": {
          "base_uri": "https://localhost:8080/",
          "height": 424
        },
        "id": "RLClTqfl3EeK",
        "outputId": "adbf5208-e197-490f-e0d1-f01d4ff479cb"
      },
      "execution_count": 8,
      "outputs": [
        {
          "output_type": "execute_result",
          "data": {
            "text/plain": [
              "   agent_city agent_state agent_firm_name class_of_admission case_status\n",
              "0         NaN         NaN             NaN                J-1   Certified\n",
              "1         NaN         NaN             NaN                B-2      Denied\n",
              "2         NaN         NaN             NaN               H-1B   Certified\n",
              "3         NaN         NaN             NaN                B-2   Certified\n",
              "4         NaN         NaN             NaN                L-1   Certified\n",
              "..        ...         ...             ...                ...         ...\n",
              "95        NaN         NaN             NaN                F-1      Denied\n",
              "96        NaN         NaN             NaN                NaN      Denied\n",
              "97        NaN         NaN             NaN                B-1      Denied\n",
              "98        NaN         NaN             NaN               H-1B   Certified\n",
              "99        NaN         NaN             NaN               H-1B   Withdrawn\n",
              "\n",
              "[100 rows x 5 columns]"
            ],
            "text/html": [
              "\n",
              "  <div id=\"df-d702ab32-d473-4e61-8023-aaff6387a0df\">\n",
              "    <div class=\"colab-df-container\">\n",
              "      <div>\n",
              "<style scoped>\n",
              "    .dataframe tbody tr th:only-of-type {\n",
              "        vertical-align: middle;\n",
              "    }\n",
              "\n",
              "    .dataframe tbody tr th {\n",
              "        vertical-align: top;\n",
              "    }\n",
              "\n",
              "    .dataframe thead th {\n",
              "        text-align: right;\n",
              "    }\n",
              "</style>\n",
              "<table border=\"1\" class=\"dataframe\">\n",
              "  <thead>\n",
              "    <tr style=\"text-align: right;\">\n",
              "      <th></th>\n",
              "      <th>agent_city</th>\n",
              "      <th>agent_state</th>\n",
              "      <th>agent_firm_name</th>\n",
              "      <th>class_of_admission</th>\n",
              "      <th>case_status</th>\n",
              "    </tr>\n",
              "  </thead>\n",
              "  <tbody>\n",
              "    <tr>\n",
              "      <th>0</th>\n",
              "      <td>NaN</td>\n",
              "      <td>NaN</td>\n",
              "      <td>NaN</td>\n",
              "      <td>J-1</td>\n",
              "      <td>Certified</td>\n",
              "    </tr>\n",
              "    <tr>\n",
              "      <th>1</th>\n",
              "      <td>NaN</td>\n",
              "      <td>NaN</td>\n",
              "      <td>NaN</td>\n",
              "      <td>B-2</td>\n",
              "      <td>Denied</td>\n",
              "    </tr>\n",
              "    <tr>\n",
              "      <th>2</th>\n",
              "      <td>NaN</td>\n",
              "      <td>NaN</td>\n",
              "      <td>NaN</td>\n",
              "      <td>H-1B</td>\n",
              "      <td>Certified</td>\n",
              "    </tr>\n",
              "    <tr>\n",
              "      <th>3</th>\n",
              "      <td>NaN</td>\n",
              "      <td>NaN</td>\n",
              "      <td>NaN</td>\n",
              "      <td>B-2</td>\n",
              "      <td>Certified</td>\n",
              "    </tr>\n",
              "    <tr>\n",
              "      <th>4</th>\n",
              "      <td>NaN</td>\n",
              "      <td>NaN</td>\n",
              "      <td>NaN</td>\n",
              "      <td>L-1</td>\n",
              "      <td>Certified</td>\n",
              "    </tr>\n",
              "    <tr>\n",
              "      <th>...</th>\n",
              "      <td>...</td>\n",
              "      <td>...</td>\n",
              "      <td>...</td>\n",
              "      <td>...</td>\n",
              "      <td>...</td>\n",
              "    </tr>\n",
              "    <tr>\n",
              "      <th>95</th>\n",
              "      <td>NaN</td>\n",
              "      <td>NaN</td>\n",
              "      <td>NaN</td>\n",
              "      <td>F-1</td>\n",
              "      <td>Denied</td>\n",
              "    </tr>\n",
              "    <tr>\n",
              "      <th>96</th>\n",
              "      <td>NaN</td>\n",
              "      <td>NaN</td>\n",
              "      <td>NaN</td>\n",
              "      <td>NaN</td>\n",
              "      <td>Denied</td>\n",
              "    </tr>\n",
              "    <tr>\n",
              "      <th>97</th>\n",
              "      <td>NaN</td>\n",
              "      <td>NaN</td>\n",
              "      <td>NaN</td>\n",
              "      <td>B-1</td>\n",
              "      <td>Denied</td>\n",
              "    </tr>\n",
              "    <tr>\n",
              "      <th>98</th>\n",
              "      <td>NaN</td>\n",
              "      <td>NaN</td>\n",
              "      <td>NaN</td>\n",
              "      <td>H-1B</td>\n",
              "      <td>Certified</td>\n",
              "    </tr>\n",
              "    <tr>\n",
              "      <th>99</th>\n",
              "      <td>NaN</td>\n",
              "      <td>NaN</td>\n",
              "      <td>NaN</td>\n",
              "      <td>H-1B</td>\n",
              "      <td>Withdrawn</td>\n",
              "    </tr>\n",
              "  </tbody>\n",
              "</table>\n",
              "<p>100 rows × 5 columns</p>\n",
              "</div>\n",
              "      <button class=\"colab-df-convert\" onclick=\"convertToInteractive('df-d702ab32-d473-4e61-8023-aaff6387a0df')\"\n",
              "              title=\"Convert this dataframe to an interactive table.\"\n",
              "              style=\"display:none;\">\n",
              "        \n",
              "  <svg xmlns=\"http://www.w3.org/2000/svg\" height=\"24px\"viewBox=\"0 0 24 24\"\n",
              "       width=\"24px\">\n",
              "    <path d=\"M0 0h24v24H0V0z\" fill=\"none\"/>\n",
              "    <path d=\"M18.56 5.44l.94 2.06.94-2.06 2.06-.94-2.06-.94-.94-2.06-.94 2.06-2.06.94zm-11 1L8.5 8.5l.94-2.06 2.06-.94-2.06-.94L8.5 2.5l-.94 2.06-2.06.94zm10 10l.94 2.06.94-2.06 2.06-.94-2.06-.94-.94-2.06-.94 2.06-2.06.94z\"/><path d=\"M17.41 7.96l-1.37-1.37c-.4-.4-.92-.59-1.43-.59-.52 0-1.04.2-1.43.59L10.3 9.45l-7.72 7.72c-.78.78-.78 2.05 0 2.83L4 21.41c.39.39.9.59 1.41.59.51 0 1.02-.2 1.41-.59l7.78-7.78 2.81-2.81c.8-.78.8-2.07 0-2.86zM5.41 20L4 18.59l7.72-7.72 1.47 1.35L5.41 20z\"/>\n",
              "  </svg>\n",
              "      </button>\n",
              "      \n",
              "  <style>\n",
              "    .colab-df-container {\n",
              "      display:flex;\n",
              "      flex-wrap:wrap;\n",
              "      gap: 12px;\n",
              "    }\n",
              "\n",
              "    .colab-df-convert {\n",
              "      background-color: #E8F0FE;\n",
              "      border: none;\n",
              "      border-radius: 50%;\n",
              "      cursor: pointer;\n",
              "      display: none;\n",
              "      fill: #1967D2;\n",
              "      height: 32px;\n",
              "      padding: 0 0 0 0;\n",
              "      width: 32px;\n",
              "    }\n",
              "\n",
              "    .colab-df-convert:hover {\n",
              "      background-color: #E2EBFA;\n",
              "      box-shadow: 0px 1px 2px rgba(60, 64, 67, 0.3), 0px 1px 3px 1px rgba(60, 64, 67, 0.15);\n",
              "      fill: #174EA6;\n",
              "    }\n",
              "\n",
              "    [theme=dark] .colab-df-convert {\n",
              "      background-color: #3B4455;\n",
              "      fill: #D2E3FC;\n",
              "    }\n",
              "\n",
              "    [theme=dark] .colab-df-convert:hover {\n",
              "      background-color: #434B5C;\n",
              "      box-shadow: 0px 1px 3px 1px rgba(0, 0, 0, 0.15);\n",
              "      filter: drop-shadow(0px 1px 2px rgba(0, 0, 0, 0.3));\n",
              "      fill: #FFFFFF;\n",
              "    }\n",
              "  </style>\n",
              "\n",
              "      <script>\n",
              "        const buttonEl =\n",
              "          document.querySelector('#df-d702ab32-d473-4e61-8023-aaff6387a0df button.colab-df-convert');\n",
              "        buttonEl.style.display =\n",
              "          google.colab.kernel.accessAllowed ? 'block' : 'none';\n",
              "\n",
              "        async function convertToInteractive(key) {\n",
              "          const element = document.querySelector('#df-d702ab32-d473-4e61-8023-aaff6387a0df');\n",
              "          const dataTable =\n",
              "            await google.colab.kernel.invokeFunction('convertToInteractive',\n",
              "                                                     [key], {});\n",
              "          if (!dataTable) return;\n",
              "\n",
              "          const docLinkHtml = 'Like what you see? Visit the ' +\n",
              "            '<a target=\"_blank\" href=https://colab.research.google.com/notebooks/data_table.ipynb>data table notebook</a>'\n",
              "            + ' to learn more about interactive tables.';\n",
              "          element.innerHTML = '';\n",
              "          dataTable['output_type'] = 'display_data';\n",
              "          await google.colab.output.renderOutput(dataTable, element);\n",
              "          const docLink = document.createElement('div');\n",
              "          docLink.innerHTML = docLinkHtml;\n",
              "          element.appendChild(docLink);\n",
              "        }\n",
              "      </script>\n",
              "    </div>\n",
              "  </div>\n",
              "  "
            ]
          },
          "metadata": {},
          "execution_count": 8
        }
      ]
    },
    {
      "cell_type": "markdown",
      "source": [
        "# 3) Clean your data for a decision tree"
      ],
      "metadata": {
        "id": "PcAlSFp7BmX1"
      }
    },
    {
      "cell_type": "code",
      "source": [
        "df2.isnull().sum()"
      ],
      "metadata": {
        "colab": {
          "base_uri": "https://localhost:8080/"
        },
        "id": "_iffwjUb3qYx",
        "outputId": "48d4c257-af62-42d5-f223-5e5d786f4b94"
      },
      "execution_count": 9,
      "outputs": [
        {
          "output_type": "execute_result",
          "data": {
            "text/plain": [
              "agent_city            162908\n",
              "agent_state           166123\n",
              "agent_firm_name       167365\n",
              "class_of_admission     22845\n",
              "case_status                0\n",
              "dtype: int64"
            ]
          },
          "metadata": {},
          "execution_count": 9
        }
      ]
    },
    {
      "cell_type": "code",
      "source": [
        "df2.tail(500)"
      ],
      "metadata": {
        "colab": {
          "base_uri": "https://localhost:8080/",
          "height": 424
        },
        "id": "WWZ4v_UU332E",
        "outputId": "ac1408ec-46c1-4704-84e0-9a24d51ad01d"
      },
      "execution_count": 10,
      "outputs": [
        {
          "output_type": "execute_result",
          "data": {
            "text/plain": [
              "                 agent_city agent_state  \\\n",
              "373862             NEW YORK          NY   \n",
              "373863        East Bruswick          NJ   \n",
              "373864  South San Francisco          CA   \n",
              "373865               Duluth          GA   \n",
              "373866               Dallas          TX   \n",
              "...                     ...         ...   \n",
              "374357           Buena Park          CA   \n",
              "374358              Seattle          WA   \n",
              "374359           Schaumburg          IL   \n",
              "374360          LOS ANGELES          CA   \n",
              "374361              Phoenix          AZ   \n",
              "\n",
              "                                          agent_firm_name class_of_admission  \\\n",
              "373862                           Law Offices of Peng Fang               H-1B   \n",
              "373863                       Law Offices of Weicheng Wang               H-1B   \n",
              "373864                                   Litwin and Smith               H-1B   \n",
              "373865                                 Staffing Post, LLC                NaN   \n",
              "373866                        Berry Appleman & Leiden LLP               H-1B   \n",
              "...                                                   ...                ...   \n",
              "374357                           Law Offices of Yohan Lee                NaN   \n",
              "374358                         MacDonald Hoague & Bayless                L-1   \n",
              "374359  International Legal and Business Services Grou...               H-1B   \n",
              "374360                        LAW OFFICES OF JAMES S HONG                B-2   \n",
              "374361            Fragomen, Del Rey, Bernsen & Loewy, LLP               H-1B   \n",
              "\n",
              "       case_status  \n",
              "373862   Certified  \n",
              "373863   Certified  \n",
              "373864   Certified  \n",
              "373865   Certified  \n",
              "373866   Certified  \n",
              "...            ...  \n",
              "374357   Withdrawn  \n",
              "374358   Withdrawn  \n",
              "374359   Withdrawn  \n",
              "374360   Withdrawn  \n",
              "374361   Withdrawn  \n",
              "\n",
              "[500 rows x 5 columns]"
            ],
            "text/html": [
              "\n",
              "  <div id=\"df-fa9ac15c-5fe7-4920-b451-3aac9d241b95\">\n",
              "    <div class=\"colab-df-container\">\n",
              "      <div>\n",
              "<style scoped>\n",
              "    .dataframe tbody tr th:only-of-type {\n",
              "        vertical-align: middle;\n",
              "    }\n",
              "\n",
              "    .dataframe tbody tr th {\n",
              "        vertical-align: top;\n",
              "    }\n",
              "\n",
              "    .dataframe thead th {\n",
              "        text-align: right;\n",
              "    }\n",
              "</style>\n",
              "<table border=\"1\" class=\"dataframe\">\n",
              "  <thead>\n",
              "    <tr style=\"text-align: right;\">\n",
              "      <th></th>\n",
              "      <th>agent_city</th>\n",
              "      <th>agent_state</th>\n",
              "      <th>agent_firm_name</th>\n",
              "      <th>class_of_admission</th>\n",
              "      <th>case_status</th>\n",
              "    </tr>\n",
              "  </thead>\n",
              "  <tbody>\n",
              "    <tr>\n",
              "      <th>373862</th>\n",
              "      <td>NEW YORK</td>\n",
              "      <td>NY</td>\n",
              "      <td>Law Offices of Peng Fang</td>\n",
              "      <td>H-1B</td>\n",
              "      <td>Certified</td>\n",
              "    </tr>\n",
              "    <tr>\n",
              "      <th>373863</th>\n",
              "      <td>East Bruswick</td>\n",
              "      <td>NJ</td>\n",
              "      <td>Law Offices of Weicheng Wang</td>\n",
              "      <td>H-1B</td>\n",
              "      <td>Certified</td>\n",
              "    </tr>\n",
              "    <tr>\n",
              "      <th>373864</th>\n",
              "      <td>South San Francisco</td>\n",
              "      <td>CA</td>\n",
              "      <td>Litwin and Smith</td>\n",
              "      <td>H-1B</td>\n",
              "      <td>Certified</td>\n",
              "    </tr>\n",
              "    <tr>\n",
              "      <th>373865</th>\n",
              "      <td>Duluth</td>\n",
              "      <td>GA</td>\n",
              "      <td>Staffing Post, LLC</td>\n",
              "      <td>NaN</td>\n",
              "      <td>Certified</td>\n",
              "    </tr>\n",
              "    <tr>\n",
              "      <th>373866</th>\n",
              "      <td>Dallas</td>\n",
              "      <td>TX</td>\n",
              "      <td>Berry Appleman &amp; Leiden LLP</td>\n",
              "      <td>H-1B</td>\n",
              "      <td>Certified</td>\n",
              "    </tr>\n",
              "    <tr>\n",
              "      <th>...</th>\n",
              "      <td>...</td>\n",
              "      <td>...</td>\n",
              "      <td>...</td>\n",
              "      <td>...</td>\n",
              "      <td>...</td>\n",
              "    </tr>\n",
              "    <tr>\n",
              "      <th>374357</th>\n",
              "      <td>Buena Park</td>\n",
              "      <td>CA</td>\n",
              "      <td>Law Offices of Yohan Lee</td>\n",
              "      <td>NaN</td>\n",
              "      <td>Withdrawn</td>\n",
              "    </tr>\n",
              "    <tr>\n",
              "      <th>374358</th>\n",
              "      <td>Seattle</td>\n",
              "      <td>WA</td>\n",
              "      <td>MacDonald Hoague &amp; Bayless</td>\n",
              "      <td>L-1</td>\n",
              "      <td>Withdrawn</td>\n",
              "    </tr>\n",
              "    <tr>\n",
              "      <th>374359</th>\n",
              "      <td>Schaumburg</td>\n",
              "      <td>IL</td>\n",
              "      <td>International Legal and Business Services Grou...</td>\n",
              "      <td>H-1B</td>\n",
              "      <td>Withdrawn</td>\n",
              "    </tr>\n",
              "    <tr>\n",
              "      <th>374360</th>\n",
              "      <td>LOS ANGELES</td>\n",
              "      <td>CA</td>\n",
              "      <td>LAW OFFICES OF JAMES S HONG</td>\n",
              "      <td>B-2</td>\n",
              "      <td>Withdrawn</td>\n",
              "    </tr>\n",
              "    <tr>\n",
              "      <th>374361</th>\n",
              "      <td>Phoenix</td>\n",
              "      <td>AZ</td>\n",
              "      <td>Fragomen, Del Rey, Bernsen &amp; Loewy, LLP</td>\n",
              "      <td>H-1B</td>\n",
              "      <td>Withdrawn</td>\n",
              "    </tr>\n",
              "  </tbody>\n",
              "</table>\n",
              "<p>500 rows × 5 columns</p>\n",
              "</div>\n",
              "      <button class=\"colab-df-convert\" onclick=\"convertToInteractive('df-fa9ac15c-5fe7-4920-b451-3aac9d241b95')\"\n",
              "              title=\"Convert this dataframe to an interactive table.\"\n",
              "              style=\"display:none;\">\n",
              "        \n",
              "  <svg xmlns=\"http://www.w3.org/2000/svg\" height=\"24px\"viewBox=\"0 0 24 24\"\n",
              "       width=\"24px\">\n",
              "    <path d=\"M0 0h24v24H0V0z\" fill=\"none\"/>\n",
              "    <path d=\"M18.56 5.44l.94 2.06.94-2.06 2.06-.94-2.06-.94-.94-2.06-.94 2.06-2.06.94zm-11 1L8.5 8.5l.94-2.06 2.06-.94-2.06-.94L8.5 2.5l-.94 2.06-2.06.94zm10 10l.94 2.06.94-2.06 2.06-.94-2.06-.94-.94-2.06-.94 2.06-2.06.94z\"/><path d=\"M17.41 7.96l-1.37-1.37c-.4-.4-.92-.59-1.43-.59-.52 0-1.04.2-1.43.59L10.3 9.45l-7.72 7.72c-.78.78-.78 2.05 0 2.83L4 21.41c.39.39.9.59 1.41.59.51 0 1.02-.2 1.41-.59l7.78-7.78 2.81-2.81c.8-.78.8-2.07 0-2.86zM5.41 20L4 18.59l7.72-7.72 1.47 1.35L5.41 20z\"/>\n",
              "  </svg>\n",
              "      </button>\n",
              "      \n",
              "  <style>\n",
              "    .colab-df-container {\n",
              "      display:flex;\n",
              "      flex-wrap:wrap;\n",
              "      gap: 12px;\n",
              "    }\n",
              "\n",
              "    .colab-df-convert {\n",
              "      background-color: #E8F0FE;\n",
              "      border: none;\n",
              "      border-radius: 50%;\n",
              "      cursor: pointer;\n",
              "      display: none;\n",
              "      fill: #1967D2;\n",
              "      height: 32px;\n",
              "      padding: 0 0 0 0;\n",
              "      width: 32px;\n",
              "    }\n",
              "\n",
              "    .colab-df-convert:hover {\n",
              "      background-color: #E2EBFA;\n",
              "      box-shadow: 0px 1px 2px rgba(60, 64, 67, 0.3), 0px 1px 3px 1px rgba(60, 64, 67, 0.15);\n",
              "      fill: #174EA6;\n",
              "    }\n",
              "\n",
              "    [theme=dark] .colab-df-convert {\n",
              "      background-color: #3B4455;\n",
              "      fill: #D2E3FC;\n",
              "    }\n",
              "\n",
              "    [theme=dark] .colab-df-convert:hover {\n",
              "      background-color: #434B5C;\n",
              "      box-shadow: 0px 1px 3px 1px rgba(0, 0, 0, 0.15);\n",
              "      filter: drop-shadow(0px 1px 2px rgba(0, 0, 0, 0.3));\n",
              "      fill: #FFFFFF;\n",
              "    }\n",
              "  </style>\n",
              "\n",
              "      <script>\n",
              "        const buttonEl =\n",
              "          document.querySelector('#df-fa9ac15c-5fe7-4920-b451-3aac9d241b95 button.colab-df-convert');\n",
              "        buttonEl.style.display =\n",
              "          google.colab.kernel.accessAllowed ? 'block' : 'none';\n",
              "\n",
              "        async function convertToInteractive(key) {\n",
              "          const element = document.querySelector('#df-fa9ac15c-5fe7-4920-b451-3aac9d241b95');\n",
              "          const dataTable =\n",
              "            await google.colab.kernel.invokeFunction('convertToInteractive',\n",
              "                                                     [key], {});\n",
              "          if (!dataTable) return;\n",
              "\n",
              "          const docLinkHtml = 'Like what you see? Visit the ' +\n",
              "            '<a target=\"_blank\" href=https://colab.research.google.com/notebooks/data_table.ipynb>data table notebook</a>'\n",
              "            + ' to learn more about interactive tables.';\n",
              "          element.innerHTML = '';\n",
              "          dataTable['output_type'] = 'display_data';\n",
              "          await google.colab.output.renderOutput(dataTable, element);\n",
              "          const docLink = document.createElement('div');\n",
              "          docLink.innerHTML = docLinkHtml;\n",
              "          element.appendChild(docLink);\n",
              "        }\n",
              "      </script>\n",
              "    </div>\n",
              "  </div>\n",
              "  "
            ]
          },
          "metadata": {},
          "execution_count": 10
        }
      ]
    },
    {
      "cell_type": "code",
      "source": [
        "df2.dropna(how='any', inplace=True)"
      ],
      "metadata": {
        "colab": {
          "base_uri": "https://localhost:8080/"
        },
        "id": "wXUNs-fX5NKG",
        "outputId": "44dfe199-9e0b-4aea-d6ae-738529fc1c47"
      },
      "execution_count": 11,
      "outputs": [
        {
          "output_type": "stream",
          "name": "stderr",
          "text": [
            "/usr/local/lib/python3.8/dist-packages/pandas/util/_decorators.py:311: SettingWithCopyWarning: \n",
            "A value is trying to be set on a copy of a slice from a DataFrame\n",
            "\n",
            "See the caveats in the documentation: https://pandas.pydata.org/pandas-docs/stable/user_guide/indexing.html#returning-a-view-versus-a-copy\n",
            "  return func(*args, **kwargs)\n"
          ]
        }
      ]
    },
    {
      "cell_type": "code",
      "source": [
        "df2.head()"
      ],
      "metadata": {
        "colab": {
          "base_uri": "https://localhost:8080/",
          "height": 206
        },
        "id": "0YMl5A6N7B1H",
        "outputId": "e29c579c-1871-4fb2-884d-5f47c1e44e11"
      },
      "execution_count": 12,
      "outputs": [
        {
          "output_type": "execute_result",
          "data": {
            "text/plain": [
              "           agent_city agent_state                   agent_firm_name  \\\n",
              "135269      Milwaukee   WISCONSIN  Reinhart Boerner Van Deuren s.c.   \n",
              "135271      Littleton    COLORADO       Law Office of Jonathan Chin   \n",
              "135272    Los Angeles  CALIFORNIA          Law Offices Peter A. Kim   \n",
              "135274      Ann Arbor    MICHIGAN       Law Office of Soo Park, PLC   \n",
              "135275  Williamsville    NEW YORK                Cumming & Partners   \n",
              "\n",
              "       class_of_admission        case_status  \n",
              "135269               H-1B          Certified  \n",
              "135271               H-1B             Denied  \n",
              "135272                E-2          Certified  \n",
              "135274                F-1          Certified  \n",
              "135275               H-1B  Certified-Expired  "
            ],
            "text/html": [
              "\n",
              "  <div id=\"df-8e209e31-9327-404a-8bd2-804ecf401d18\">\n",
              "    <div class=\"colab-df-container\">\n",
              "      <div>\n",
              "<style scoped>\n",
              "    .dataframe tbody tr th:only-of-type {\n",
              "        vertical-align: middle;\n",
              "    }\n",
              "\n",
              "    .dataframe tbody tr th {\n",
              "        vertical-align: top;\n",
              "    }\n",
              "\n",
              "    .dataframe thead th {\n",
              "        text-align: right;\n",
              "    }\n",
              "</style>\n",
              "<table border=\"1\" class=\"dataframe\">\n",
              "  <thead>\n",
              "    <tr style=\"text-align: right;\">\n",
              "      <th></th>\n",
              "      <th>agent_city</th>\n",
              "      <th>agent_state</th>\n",
              "      <th>agent_firm_name</th>\n",
              "      <th>class_of_admission</th>\n",
              "      <th>case_status</th>\n",
              "    </tr>\n",
              "  </thead>\n",
              "  <tbody>\n",
              "    <tr>\n",
              "      <th>135269</th>\n",
              "      <td>Milwaukee</td>\n",
              "      <td>WISCONSIN</td>\n",
              "      <td>Reinhart Boerner Van Deuren s.c.</td>\n",
              "      <td>H-1B</td>\n",
              "      <td>Certified</td>\n",
              "    </tr>\n",
              "    <tr>\n",
              "      <th>135271</th>\n",
              "      <td>Littleton</td>\n",
              "      <td>COLORADO</td>\n",
              "      <td>Law Office of Jonathan Chin</td>\n",
              "      <td>H-1B</td>\n",
              "      <td>Denied</td>\n",
              "    </tr>\n",
              "    <tr>\n",
              "      <th>135272</th>\n",
              "      <td>Los Angeles</td>\n",
              "      <td>CALIFORNIA</td>\n",
              "      <td>Law Offices Peter A. Kim</td>\n",
              "      <td>E-2</td>\n",
              "      <td>Certified</td>\n",
              "    </tr>\n",
              "    <tr>\n",
              "      <th>135274</th>\n",
              "      <td>Ann Arbor</td>\n",
              "      <td>MICHIGAN</td>\n",
              "      <td>Law Office of Soo Park, PLC</td>\n",
              "      <td>F-1</td>\n",
              "      <td>Certified</td>\n",
              "    </tr>\n",
              "    <tr>\n",
              "      <th>135275</th>\n",
              "      <td>Williamsville</td>\n",
              "      <td>NEW YORK</td>\n",
              "      <td>Cumming &amp; Partners</td>\n",
              "      <td>H-1B</td>\n",
              "      <td>Certified-Expired</td>\n",
              "    </tr>\n",
              "  </tbody>\n",
              "</table>\n",
              "</div>\n",
              "      <button class=\"colab-df-convert\" onclick=\"convertToInteractive('df-8e209e31-9327-404a-8bd2-804ecf401d18')\"\n",
              "              title=\"Convert this dataframe to an interactive table.\"\n",
              "              style=\"display:none;\">\n",
              "        \n",
              "  <svg xmlns=\"http://www.w3.org/2000/svg\" height=\"24px\"viewBox=\"0 0 24 24\"\n",
              "       width=\"24px\">\n",
              "    <path d=\"M0 0h24v24H0V0z\" fill=\"none\"/>\n",
              "    <path d=\"M18.56 5.44l.94 2.06.94-2.06 2.06-.94-2.06-.94-.94-2.06-.94 2.06-2.06.94zm-11 1L8.5 8.5l.94-2.06 2.06-.94-2.06-.94L8.5 2.5l-.94 2.06-2.06.94zm10 10l.94 2.06.94-2.06 2.06-.94-2.06-.94-.94-2.06-.94 2.06-2.06.94z\"/><path d=\"M17.41 7.96l-1.37-1.37c-.4-.4-.92-.59-1.43-.59-.52 0-1.04.2-1.43.59L10.3 9.45l-7.72 7.72c-.78.78-.78 2.05 0 2.83L4 21.41c.39.39.9.59 1.41.59.51 0 1.02-.2 1.41-.59l7.78-7.78 2.81-2.81c.8-.78.8-2.07 0-2.86zM5.41 20L4 18.59l7.72-7.72 1.47 1.35L5.41 20z\"/>\n",
              "  </svg>\n",
              "      </button>\n",
              "      \n",
              "  <style>\n",
              "    .colab-df-container {\n",
              "      display:flex;\n",
              "      flex-wrap:wrap;\n",
              "      gap: 12px;\n",
              "    }\n",
              "\n",
              "    .colab-df-convert {\n",
              "      background-color: #E8F0FE;\n",
              "      border: none;\n",
              "      border-radius: 50%;\n",
              "      cursor: pointer;\n",
              "      display: none;\n",
              "      fill: #1967D2;\n",
              "      height: 32px;\n",
              "      padding: 0 0 0 0;\n",
              "      width: 32px;\n",
              "    }\n",
              "\n",
              "    .colab-df-convert:hover {\n",
              "      background-color: #E2EBFA;\n",
              "      box-shadow: 0px 1px 2px rgba(60, 64, 67, 0.3), 0px 1px 3px 1px rgba(60, 64, 67, 0.15);\n",
              "      fill: #174EA6;\n",
              "    }\n",
              "\n",
              "    [theme=dark] .colab-df-convert {\n",
              "      background-color: #3B4455;\n",
              "      fill: #D2E3FC;\n",
              "    }\n",
              "\n",
              "    [theme=dark] .colab-df-convert:hover {\n",
              "      background-color: #434B5C;\n",
              "      box-shadow: 0px 1px 3px 1px rgba(0, 0, 0, 0.15);\n",
              "      filter: drop-shadow(0px 1px 2px rgba(0, 0, 0, 0.3));\n",
              "      fill: #FFFFFF;\n",
              "    }\n",
              "  </style>\n",
              "\n",
              "      <script>\n",
              "        const buttonEl =\n",
              "          document.querySelector('#df-8e209e31-9327-404a-8bd2-804ecf401d18 button.colab-df-convert');\n",
              "        buttonEl.style.display =\n",
              "          google.colab.kernel.accessAllowed ? 'block' : 'none';\n",
              "\n",
              "        async function convertToInteractive(key) {\n",
              "          const element = document.querySelector('#df-8e209e31-9327-404a-8bd2-804ecf401d18');\n",
              "          const dataTable =\n",
              "            await google.colab.kernel.invokeFunction('convertToInteractive',\n",
              "                                                     [key], {});\n",
              "          if (!dataTable) return;\n",
              "\n",
              "          const docLinkHtml = 'Like what you see? Visit the ' +\n",
              "            '<a target=\"_blank\" href=https://colab.research.google.com/notebooks/data_table.ipynb>data table notebook</a>'\n",
              "            + ' to learn more about interactive tables.';\n",
              "          element.innerHTML = '';\n",
              "          dataTable['output_type'] = 'display_data';\n",
              "          await google.colab.output.renderOutput(dataTable, element);\n",
              "          const docLink = document.createElement('div');\n",
              "          docLink.innerHTML = docLinkHtml;\n",
              "          element.appendChild(docLink);\n",
              "        }\n",
              "      </script>\n",
              "    </div>\n",
              "  </div>\n",
              "  "
            ]
          },
          "metadata": {},
          "execution_count": 12
        }
      ]
    },
    {
      "cell_type": "code",
      "source": [
        "df2.shape"
      ],
      "metadata": {
        "colab": {
          "base_uri": "https://localhost:8080/"
        },
        "id": "RQnpaH137LN0",
        "outputId": "97b85915-05bd-47d8-eeb3-ae7ed39ef436"
      },
      "execution_count": 13,
      "outputs": [
        {
          "output_type": "execute_result",
          "data": {
            "text/plain": [
              "(191934, 5)"
            ]
          },
          "metadata": {},
          "execution_count": 13
        }
      ]
    },
    {
      "cell_type": "code",
      "source": [
        "inputs=df2.drop('case_status', axis='columns')\n",
        "inputs.head()"
      ],
      "metadata": {
        "colab": {
          "base_uri": "https://localhost:8080/",
          "height": 206
        },
        "id": "LlJswThw7T1J",
        "outputId": "cee1625e-d92e-4318-8cd7-6a3fb762bbfb"
      },
      "execution_count": 14,
      "outputs": [
        {
          "output_type": "execute_result",
          "data": {
            "text/plain": [
              "           agent_city agent_state                   agent_firm_name  \\\n",
              "135269      Milwaukee   WISCONSIN  Reinhart Boerner Van Deuren s.c.   \n",
              "135271      Littleton    COLORADO       Law Office of Jonathan Chin   \n",
              "135272    Los Angeles  CALIFORNIA          Law Offices Peter A. Kim   \n",
              "135274      Ann Arbor    MICHIGAN       Law Office of Soo Park, PLC   \n",
              "135275  Williamsville    NEW YORK                Cumming & Partners   \n",
              "\n",
              "       class_of_admission  \n",
              "135269               H-1B  \n",
              "135271               H-1B  \n",
              "135272                E-2  \n",
              "135274                F-1  \n",
              "135275               H-1B  "
            ],
            "text/html": [
              "\n",
              "  <div id=\"df-eaf7f119-2edf-4a49-8d4d-4f02f5507b88\">\n",
              "    <div class=\"colab-df-container\">\n",
              "      <div>\n",
              "<style scoped>\n",
              "    .dataframe tbody tr th:only-of-type {\n",
              "        vertical-align: middle;\n",
              "    }\n",
              "\n",
              "    .dataframe tbody tr th {\n",
              "        vertical-align: top;\n",
              "    }\n",
              "\n",
              "    .dataframe thead th {\n",
              "        text-align: right;\n",
              "    }\n",
              "</style>\n",
              "<table border=\"1\" class=\"dataframe\">\n",
              "  <thead>\n",
              "    <tr style=\"text-align: right;\">\n",
              "      <th></th>\n",
              "      <th>agent_city</th>\n",
              "      <th>agent_state</th>\n",
              "      <th>agent_firm_name</th>\n",
              "      <th>class_of_admission</th>\n",
              "    </tr>\n",
              "  </thead>\n",
              "  <tbody>\n",
              "    <tr>\n",
              "      <th>135269</th>\n",
              "      <td>Milwaukee</td>\n",
              "      <td>WISCONSIN</td>\n",
              "      <td>Reinhart Boerner Van Deuren s.c.</td>\n",
              "      <td>H-1B</td>\n",
              "    </tr>\n",
              "    <tr>\n",
              "      <th>135271</th>\n",
              "      <td>Littleton</td>\n",
              "      <td>COLORADO</td>\n",
              "      <td>Law Office of Jonathan Chin</td>\n",
              "      <td>H-1B</td>\n",
              "    </tr>\n",
              "    <tr>\n",
              "      <th>135272</th>\n",
              "      <td>Los Angeles</td>\n",
              "      <td>CALIFORNIA</td>\n",
              "      <td>Law Offices Peter A. Kim</td>\n",
              "      <td>E-2</td>\n",
              "    </tr>\n",
              "    <tr>\n",
              "      <th>135274</th>\n",
              "      <td>Ann Arbor</td>\n",
              "      <td>MICHIGAN</td>\n",
              "      <td>Law Office of Soo Park, PLC</td>\n",
              "      <td>F-1</td>\n",
              "    </tr>\n",
              "    <tr>\n",
              "      <th>135275</th>\n",
              "      <td>Williamsville</td>\n",
              "      <td>NEW YORK</td>\n",
              "      <td>Cumming &amp; Partners</td>\n",
              "      <td>H-1B</td>\n",
              "    </tr>\n",
              "  </tbody>\n",
              "</table>\n",
              "</div>\n",
              "      <button class=\"colab-df-convert\" onclick=\"convertToInteractive('df-eaf7f119-2edf-4a49-8d4d-4f02f5507b88')\"\n",
              "              title=\"Convert this dataframe to an interactive table.\"\n",
              "              style=\"display:none;\">\n",
              "        \n",
              "  <svg xmlns=\"http://www.w3.org/2000/svg\" height=\"24px\"viewBox=\"0 0 24 24\"\n",
              "       width=\"24px\">\n",
              "    <path d=\"M0 0h24v24H0V0z\" fill=\"none\"/>\n",
              "    <path d=\"M18.56 5.44l.94 2.06.94-2.06 2.06-.94-2.06-.94-.94-2.06-.94 2.06-2.06.94zm-11 1L8.5 8.5l.94-2.06 2.06-.94-2.06-.94L8.5 2.5l-.94 2.06-2.06.94zm10 10l.94 2.06.94-2.06 2.06-.94-2.06-.94-.94-2.06-.94 2.06-2.06.94z\"/><path d=\"M17.41 7.96l-1.37-1.37c-.4-.4-.92-.59-1.43-.59-.52 0-1.04.2-1.43.59L10.3 9.45l-7.72 7.72c-.78.78-.78 2.05 0 2.83L4 21.41c.39.39.9.59 1.41.59.51 0 1.02-.2 1.41-.59l7.78-7.78 2.81-2.81c.8-.78.8-2.07 0-2.86zM5.41 20L4 18.59l7.72-7.72 1.47 1.35L5.41 20z\"/>\n",
              "  </svg>\n",
              "      </button>\n",
              "      \n",
              "  <style>\n",
              "    .colab-df-container {\n",
              "      display:flex;\n",
              "      flex-wrap:wrap;\n",
              "      gap: 12px;\n",
              "    }\n",
              "\n",
              "    .colab-df-convert {\n",
              "      background-color: #E8F0FE;\n",
              "      border: none;\n",
              "      border-radius: 50%;\n",
              "      cursor: pointer;\n",
              "      display: none;\n",
              "      fill: #1967D2;\n",
              "      height: 32px;\n",
              "      padding: 0 0 0 0;\n",
              "      width: 32px;\n",
              "    }\n",
              "\n",
              "    .colab-df-convert:hover {\n",
              "      background-color: #E2EBFA;\n",
              "      box-shadow: 0px 1px 2px rgba(60, 64, 67, 0.3), 0px 1px 3px 1px rgba(60, 64, 67, 0.15);\n",
              "      fill: #174EA6;\n",
              "    }\n",
              "\n",
              "    [theme=dark] .colab-df-convert {\n",
              "      background-color: #3B4455;\n",
              "      fill: #D2E3FC;\n",
              "    }\n",
              "\n",
              "    [theme=dark] .colab-df-convert:hover {\n",
              "      background-color: #434B5C;\n",
              "      box-shadow: 0px 1px 3px 1px rgba(0, 0, 0, 0.15);\n",
              "      filter: drop-shadow(0px 1px 2px rgba(0, 0, 0, 0.3));\n",
              "      fill: #FFFFFF;\n",
              "    }\n",
              "  </style>\n",
              "\n",
              "      <script>\n",
              "        const buttonEl =\n",
              "          document.querySelector('#df-eaf7f119-2edf-4a49-8d4d-4f02f5507b88 button.colab-df-convert');\n",
              "        buttonEl.style.display =\n",
              "          google.colab.kernel.accessAllowed ? 'block' : 'none';\n",
              "\n",
              "        async function convertToInteractive(key) {\n",
              "          const element = document.querySelector('#df-eaf7f119-2edf-4a49-8d4d-4f02f5507b88');\n",
              "          const dataTable =\n",
              "            await google.colab.kernel.invokeFunction('convertToInteractive',\n",
              "                                                     [key], {});\n",
              "          if (!dataTable) return;\n",
              "\n",
              "          const docLinkHtml = 'Like what you see? Visit the ' +\n",
              "            '<a target=\"_blank\" href=https://colab.research.google.com/notebooks/data_table.ipynb>data table notebook</a>'\n",
              "            + ' to learn more about interactive tables.';\n",
              "          element.innerHTML = '';\n",
              "          dataTable['output_type'] = 'display_data';\n",
              "          await google.colab.output.renderOutput(dataTable, element);\n",
              "          const docLink = document.createElement('div');\n",
              "          docLink.innerHTML = docLinkHtml;\n",
              "          element.appendChild(docLink);\n",
              "        }\n",
              "      </script>\n",
              "    </div>\n",
              "  </div>\n",
              "  "
            ]
          },
          "metadata": {},
          "execution_count": 14
        }
      ]
    },
    {
      "cell_type": "code",
      "source": [
        "target=df2['case_status']"
      ],
      "metadata": {
        "id": "CDzLspP58TPt"
      },
      "execution_count": 15,
      "outputs": []
    },
    {
      "cell_type": "code",
      "source": [
        "from sklearn.preprocessing import LabelEncoder"
      ],
      "metadata": {
        "id": "jbx2xCGD8ZLq"
      },
      "execution_count": 16,
      "outputs": []
    },
    {
      "cell_type": "code",
      "source": [
        "e_agent_city=LabelEncoder()\n",
        "e_agent_state=LabelEncoder()\n",
        "e_agent_firm_name=LabelEncoder()\n",
        "e_class_of_admission=LabelEncoder()"
      ],
      "metadata": {
        "id": "OuYFHL3z8eAK"
      },
      "execution_count": 17,
      "outputs": []
    },
    {
      "cell_type": "code",
      "source": [
        "inputs['agent_city_e']=e_agent_city.fit_transform(inputs['agent_city'])"
      ],
      "metadata": {
        "id": "Sz386NcB8ozq"
      },
      "execution_count": 18,
      "outputs": []
    },
    {
      "cell_type": "code",
      "source": [
        "inputs['agent_state_e']=e_agent_state.fit_transform(inputs['agent_state'])\n",
        "inputs['agent_firm_name_e']=e_agent_firm_name.fit_transform(inputs['agent_firm_name'])\n",
        "inputs['class_of_admission_e']=e_class_of_admission.fit_transform(inputs['class_of_admission'])"
      ],
      "metadata": {
        "id": "luHA0uuP9G-R"
      },
      "execution_count": 19,
      "outputs": []
    },
    {
      "cell_type": "code",
      "source": [
        "inputs.head(10)"
      ],
      "metadata": {
        "colab": {
          "base_uri": "https://localhost:8080/",
          "height": 407
        },
        "id": "nUhvAubn91Fl",
        "outputId": "59551c24-7879-4f0b-c5dc-b28ec0dc1339"
      },
      "execution_count": 20,
      "outputs": [
        {
          "output_type": "execute_result",
          "data": {
            "text/plain": [
              "                 agent_city   agent_state  \\\n",
              "135269            Milwaukee     WISCONSIN   \n",
              "135271            Littleton      COLORADO   \n",
              "135272          Los Angeles    CALIFORNIA   \n",
              "135274            Ann Arbor      MICHIGAN   \n",
              "135275        Williamsville      NEW YORK   \n",
              "135281                Enola  PENNSYLVANIA   \n",
              "135285           PLAINSBORO    NEW JERSEY   \n",
              "135286               Edison    NEW JERSEY   \n",
              "135287  South San Francisco    CALIFORNIA   \n",
              "135289               Dallas         TEXAS   \n",
              "\n",
              "                               agent_firm_name class_of_admission  \\\n",
              "135269        Reinhart Boerner Van Deuren s.c.               H-1B   \n",
              "135271             Law Office of Jonathan Chin               H-1B   \n",
              "135272                Law Offices Peter A. Kim                E-2   \n",
              "135274             Law Office of Soo Park, PLC                F-1   \n",
              "135275                      Cumming & Partners               H-1B   \n",
              "135281  Law Offices of Kendra S. Elliott, Esq.               H-1B   \n",
              "135285            KHAVINSON & ASSOCIATES, P.C.                L-1   \n",
              "135286     Law Office of Thomas V. Allen, PLLC               H-1B   \n",
              "135287                     Litwin & Associates               H-1B   \n",
              "135289             Berry Appleman & Leiden LLP               H-1B   \n",
              "\n",
              "        agent_city_e  agent_state_e  agent_firm_name_e  class_of_admission_e  \n",
              "135269           883            105               7374                    17  \n",
              "135271           764             11               4517                    17  \n",
              "135272           777              9               4965                     8  \n",
              "135274            54             48               4833                    11  \n",
              "135275          1550             66               1218                    17  \n",
              "135281           428             81               5402                    17  \n",
              "135285          1086             64               3232                    26  \n",
              "135286           410             64               4868                    17  \n",
              "135287          1353              9               6030                    17  \n",
              "135289           351             91                653                    17  "
            ],
            "text/html": [
              "\n",
              "  <div id=\"df-fc863cff-b368-4240-b420-9b890e66cb45\">\n",
              "    <div class=\"colab-df-container\">\n",
              "      <div>\n",
              "<style scoped>\n",
              "    .dataframe tbody tr th:only-of-type {\n",
              "        vertical-align: middle;\n",
              "    }\n",
              "\n",
              "    .dataframe tbody tr th {\n",
              "        vertical-align: top;\n",
              "    }\n",
              "\n",
              "    .dataframe thead th {\n",
              "        text-align: right;\n",
              "    }\n",
              "</style>\n",
              "<table border=\"1\" class=\"dataframe\">\n",
              "  <thead>\n",
              "    <tr style=\"text-align: right;\">\n",
              "      <th></th>\n",
              "      <th>agent_city</th>\n",
              "      <th>agent_state</th>\n",
              "      <th>agent_firm_name</th>\n",
              "      <th>class_of_admission</th>\n",
              "      <th>agent_city_e</th>\n",
              "      <th>agent_state_e</th>\n",
              "      <th>agent_firm_name_e</th>\n",
              "      <th>class_of_admission_e</th>\n",
              "    </tr>\n",
              "  </thead>\n",
              "  <tbody>\n",
              "    <tr>\n",
              "      <th>135269</th>\n",
              "      <td>Milwaukee</td>\n",
              "      <td>WISCONSIN</td>\n",
              "      <td>Reinhart Boerner Van Deuren s.c.</td>\n",
              "      <td>H-1B</td>\n",
              "      <td>883</td>\n",
              "      <td>105</td>\n",
              "      <td>7374</td>\n",
              "      <td>17</td>\n",
              "    </tr>\n",
              "    <tr>\n",
              "      <th>135271</th>\n",
              "      <td>Littleton</td>\n",
              "      <td>COLORADO</td>\n",
              "      <td>Law Office of Jonathan Chin</td>\n",
              "      <td>H-1B</td>\n",
              "      <td>764</td>\n",
              "      <td>11</td>\n",
              "      <td>4517</td>\n",
              "      <td>17</td>\n",
              "    </tr>\n",
              "    <tr>\n",
              "      <th>135272</th>\n",
              "      <td>Los Angeles</td>\n",
              "      <td>CALIFORNIA</td>\n",
              "      <td>Law Offices Peter A. Kim</td>\n",
              "      <td>E-2</td>\n",
              "      <td>777</td>\n",
              "      <td>9</td>\n",
              "      <td>4965</td>\n",
              "      <td>8</td>\n",
              "    </tr>\n",
              "    <tr>\n",
              "      <th>135274</th>\n",
              "      <td>Ann Arbor</td>\n",
              "      <td>MICHIGAN</td>\n",
              "      <td>Law Office of Soo Park, PLC</td>\n",
              "      <td>F-1</td>\n",
              "      <td>54</td>\n",
              "      <td>48</td>\n",
              "      <td>4833</td>\n",
              "      <td>11</td>\n",
              "    </tr>\n",
              "    <tr>\n",
              "      <th>135275</th>\n",
              "      <td>Williamsville</td>\n",
              "      <td>NEW YORK</td>\n",
              "      <td>Cumming &amp; Partners</td>\n",
              "      <td>H-1B</td>\n",
              "      <td>1550</td>\n",
              "      <td>66</td>\n",
              "      <td>1218</td>\n",
              "      <td>17</td>\n",
              "    </tr>\n",
              "    <tr>\n",
              "      <th>135281</th>\n",
              "      <td>Enola</td>\n",
              "      <td>PENNSYLVANIA</td>\n",
              "      <td>Law Offices of Kendra S. Elliott, Esq.</td>\n",
              "      <td>H-1B</td>\n",
              "      <td>428</td>\n",
              "      <td>81</td>\n",
              "      <td>5402</td>\n",
              "      <td>17</td>\n",
              "    </tr>\n",
              "    <tr>\n",
              "      <th>135285</th>\n",
              "      <td>PLAINSBORO</td>\n",
              "      <td>NEW JERSEY</td>\n",
              "      <td>KHAVINSON &amp; ASSOCIATES, P.C.</td>\n",
              "      <td>L-1</td>\n",
              "      <td>1086</td>\n",
              "      <td>64</td>\n",
              "      <td>3232</td>\n",
              "      <td>26</td>\n",
              "    </tr>\n",
              "    <tr>\n",
              "      <th>135286</th>\n",
              "      <td>Edison</td>\n",
              "      <td>NEW JERSEY</td>\n",
              "      <td>Law Office of Thomas V. Allen, PLLC</td>\n",
              "      <td>H-1B</td>\n",
              "      <td>410</td>\n",
              "      <td>64</td>\n",
              "      <td>4868</td>\n",
              "      <td>17</td>\n",
              "    </tr>\n",
              "    <tr>\n",
              "      <th>135287</th>\n",
              "      <td>South San Francisco</td>\n",
              "      <td>CALIFORNIA</td>\n",
              "      <td>Litwin &amp; Associates</td>\n",
              "      <td>H-1B</td>\n",
              "      <td>1353</td>\n",
              "      <td>9</td>\n",
              "      <td>6030</td>\n",
              "      <td>17</td>\n",
              "    </tr>\n",
              "    <tr>\n",
              "      <th>135289</th>\n",
              "      <td>Dallas</td>\n",
              "      <td>TEXAS</td>\n",
              "      <td>Berry Appleman &amp; Leiden LLP</td>\n",
              "      <td>H-1B</td>\n",
              "      <td>351</td>\n",
              "      <td>91</td>\n",
              "      <td>653</td>\n",
              "      <td>17</td>\n",
              "    </tr>\n",
              "  </tbody>\n",
              "</table>\n",
              "</div>\n",
              "      <button class=\"colab-df-convert\" onclick=\"convertToInteractive('df-fc863cff-b368-4240-b420-9b890e66cb45')\"\n",
              "              title=\"Convert this dataframe to an interactive table.\"\n",
              "              style=\"display:none;\">\n",
              "        \n",
              "  <svg xmlns=\"http://www.w3.org/2000/svg\" height=\"24px\"viewBox=\"0 0 24 24\"\n",
              "       width=\"24px\">\n",
              "    <path d=\"M0 0h24v24H0V0z\" fill=\"none\"/>\n",
              "    <path d=\"M18.56 5.44l.94 2.06.94-2.06 2.06-.94-2.06-.94-.94-2.06-.94 2.06-2.06.94zm-11 1L8.5 8.5l.94-2.06 2.06-.94-2.06-.94L8.5 2.5l-.94 2.06-2.06.94zm10 10l.94 2.06.94-2.06 2.06-.94-2.06-.94-.94-2.06-.94 2.06-2.06.94z\"/><path d=\"M17.41 7.96l-1.37-1.37c-.4-.4-.92-.59-1.43-.59-.52 0-1.04.2-1.43.59L10.3 9.45l-7.72 7.72c-.78.78-.78 2.05 0 2.83L4 21.41c.39.39.9.59 1.41.59.51 0 1.02-.2 1.41-.59l7.78-7.78 2.81-2.81c.8-.78.8-2.07 0-2.86zM5.41 20L4 18.59l7.72-7.72 1.47 1.35L5.41 20z\"/>\n",
              "  </svg>\n",
              "      </button>\n",
              "      \n",
              "  <style>\n",
              "    .colab-df-container {\n",
              "      display:flex;\n",
              "      flex-wrap:wrap;\n",
              "      gap: 12px;\n",
              "    }\n",
              "\n",
              "    .colab-df-convert {\n",
              "      background-color: #E8F0FE;\n",
              "      border: none;\n",
              "      border-radius: 50%;\n",
              "      cursor: pointer;\n",
              "      display: none;\n",
              "      fill: #1967D2;\n",
              "      height: 32px;\n",
              "      padding: 0 0 0 0;\n",
              "      width: 32px;\n",
              "    }\n",
              "\n",
              "    .colab-df-convert:hover {\n",
              "      background-color: #E2EBFA;\n",
              "      box-shadow: 0px 1px 2px rgba(60, 64, 67, 0.3), 0px 1px 3px 1px rgba(60, 64, 67, 0.15);\n",
              "      fill: #174EA6;\n",
              "    }\n",
              "\n",
              "    [theme=dark] .colab-df-convert {\n",
              "      background-color: #3B4455;\n",
              "      fill: #D2E3FC;\n",
              "    }\n",
              "\n",
              "    [theme=dark] .colab-df-convert:hover {\n",
              "      background-color: #434B5C;\n",
              "      box-shadow: 0px 1px 3px 1px rgba(0, 0, 0, 0.15);\n",
              "      filter: drop-shadow(0px 1px 2px rgba(0, 0, 0, 0.3));\n",
              "      fill: #FFFFFF;\n",
              "    }\n",
              "  </style>\n",
              "\n",
              "      <script>\n",
              "        const buttonEl =\n",
              "          document.querySelector('#df-fc863cff-b368-4240-b420-9b890e66cb45 button.colab-df-convert');\n",
              "        buttonEl.style.display =\n",
              "          google.colab.kernel.accessAllowed ? 'block' : 'none';\n",
              "\n",
              "        async function convertToInteractive(key) {\n",
              "          const element = document.querySelector('#df-fc863cff-b368-4240-b420-9b890e66cb45');\n",
              "          const dataTable =\n",
              "            await google.colab.kernel.invokeFunction('convertToInteractive',\n",
              "                                                     [key], {});\n",
              "          if (!dataTable) return;\n",
              "\n",
              "          const docLinkHtml = 'Like what you see? Visit the ' +\n",
              "            '<a target=\"_blank\" href=https://colab.research.google.com/notebooks/data_table.ipynb>data table notebook</a>'\n",
              "            + ' to learn more about interactive tables.';\n",
              "          element.innerHTML = '';\n",
              "          dataTable['output_type'] = 'display_data';\n",
              "          await google.colab.output.renderOutput(dataTable, element);\n",
              "          const docLink = document.createElement('div');\n",
              "          docLink.innerHTML = docLinkHtml;\n",
              "          element.appendChild(docLink);\n",
              "        }\n",
              "      </script>\n",
              "    </div>\n",
              "  </div>\n",
              "  "
            ]
          },
          "metadata": {},
          "execution_count": 20
        }
      ]
    },
    {
      "cell_type": "code",
      "source": [
        "F_Inputs=inputs.drop(['agent_city','agent_state', 'agent_firm_name', 'class_of_admission'], axis='columns')"
      ],
      "metadata": {
        "id": "CorTr8oM94Gs"
      },
      "execution_count": 21,
      "outputs": []
    },
    {
      "cell_type": "code",
      "source": [
        "F_Inputs.head()"
      ],
      "metadata": {
        "colab": {
          "base_uri": "https://localhost:8080/",
          "height": 206
        },
        "id": "0vAdPtKvAS8W",
        "outputId": "8d7047aa-6634-422c-cbd4-aff57820694e"
      },
      "execution_count": 22,
      "outputs": [
        {
          "output_type": "execute_result",
          "data": {
            "text/plain": [
              "        agent_city_e  agent_state_e  agent_firm_name_e  class_of_admission_e\n",
              "135269           883            105               7374                    17\n",
              "135271           764             11               4517                    17\n",
              "135272           777              9               4965                     8\n",
              "135274            54             48               4833                    11\n",
              "135275          1550             66               1218                    17"
            ],
            "text/html": [
              "\n",
              "  <div id=\"df-36f36ef3-99d6-4c8f-8ef1-f1e179ac6d04\">\n",
              "    <div class=\"colab-df-container\">\n",
              "      <div>\n",
              "<style scoped>\n",
              "    .dataframe tbody tr th:only-of-type {\n",
              "        vertical-align: middle;\n",
              "    }\n",
              "\n",
              "    .dataframe tbody tr th {\n",
              "        vertical-align: top;\n",
              "    }\n",
              "\n",
              "    .dataframe thead th {\n",
              "        text-align: right;\n",
              "    }\n",
              "</style>\n",
              "<table border=\"1\" class=\"dataframe\">\n",
              "  <thead>\n",
              "    <tr style=\"text-align: right;\">\n",
              "      <th></th>\n",
              "      <th>agent_city_e</th>\n",
              "      <th>agent_state_e</th>\n",
              "      <th>agent_firm_name_e</th>\n",
              "      <th>class_of_admission_e</th>\n",
              "    </tr>\n",
              "  </thead>\n",
              "  <tbody>\n",
              "    <tr>\n",
              "      <th>135269</th>\n",
              "      <td>883</td>\n",
              "      <td>105</td>\n",
              "      <td>7374</td>\n",
              "      <td>17</td>\n",
              "    </tr>\n",
              "    <tr>\n",
              "      <th>135271</th>\n",
              "      <td>764</td>\n",
              "      <td>11</td>\n",
              "      <td>4517</td>\n",
              "      <td>17</td>\n",
              "    </tr>\n",
              "    <tr>\n",
              "      <th>135272</th>\n",
              "      <td>777</td>\n",
              "      <td>9</td>\n",
              "      <td>4965</td>\n",
              "      <td>8</td>\n",
              "    </tr>\n",
              "    <tr>\n",
              "      <th>135274</th>\n",
              "      <td>54</td>\n",
              "      <td>48</td>\n",
              "      <td>4833</td>\n",
              "      <td>11</td>\n",
              "    </tr>\n",
              "    <tr>\n",
              "      <th>135275</th>\n",
              "      <td>1550</td>\n",
              "      <td>66</td>\n",
              "      <td>1218</td>\n",
              "      <td>17</td>\n",
              "    </tr>\n",
              "  </tbody>\n",
              "</table>\n",
              "</div>\n",
              "      <button class=\"colab-df-convert\" onclick=\"convertToInteractive('df-36f36ef3-99d6-4c8f-8ef1-f1e179ac6d04')\"\n",
              "              title=\"Convert this dataframe to an interactive table.\"\n",
              "              style=\"display:none;\">\n",
              "        \n",
              "  <svg xmlns=\"http://www.w3.org/2000/svg\" height=\"24px\"viewBox=\"0 0 24 24\"\n",
              "       width=\"24px\">\n",
              "    <path d=\"M0 0h24v24H0V0z\" fill=\"none\"/>\n",
              "    <path d=\"M18.56 5.44l.94 2.06.94-2.06 2.06-.94-2.06-.94-.94-2.06-.94 2.06-2.06.94zm-11 1L8.5 8.5l.94-2.06 2.06-.94-2.06-.94L8.5 2.5l-.94 2.06-2.06.94zm10 10l.94 2.06.94-2.06 2.06-.94-2.06-.94-.94-2.06-.94 2.06-2.06.94z\"/><path d=\"M17.41 7.96l-1.37-1.37c-.4-.4-.92-.59-1.43-.59-.52 0-1.04.2-1.43.59L10.3 9.45l-7.72 7.72c-.78.78-.78 2.05 0 2.83L4 21.41c.39.39.9.59 1.41.59.51 0 1.02-.2 1.41-.59l7.78-7.78 2.81-2.81c.8-.78.8-2.07 0-2.86zM5.41 20L4 18.59l7.72-7.72 1.47 1.35L5.41 20z\"/>\n",
              "  </svg>\n",
              "      </button>\n",
              "      \n",
              "  <style>\n",
              "    .colab-df-container {\n",
              "      display:flex;\n",
              "      flex-wrap:wrap;\n",
              "      gap: 12px;\n",
              "    }\n",
              "\n",
              "    .colab-df-convert {\n",
              "      background-color: #E8F0FE;\n",
              "      border: none;\n",
              "      border-radius: 50%;\n",
              "      cursor: pointer;\n",
              "      display: none;\n",
              "      fill: #1967D2;\n",
              "      height: 32px;\n",
              "      padding: 0 0 0 0;\n",
              "      width: 32px;\n",
              "    }\n",
              "\n",
              "    .colab-df-convert:hover {\n",
              "      background-color: #E2EBFA;\n",
              "      box-shadow: 0px 1px 2px rgba(60, 64, 67, 0.3), 0px 1px 3px 1px rgba(60, 64, 67, 0.15);\n",
              "      fill: #174EA6;\n",
              "    }\n",
              "\n",
              "    [theme=dark] .colab-df-convert {\n",
              "      background-color: #3B4455;\n",
              "      fill: #D2E3FC;\n",
              "    }\n",
              "\n",
              "    [theme=dark] .colab-df-convert:hover {\n",
              "      background-color: #434B5C;\n",
              "      box-shadow: 0px 1px 3px 1px rgba(0, 0, 0, 0.15);\n",
              "      filter: drop-shadow(0px 1px 2px rgba(0, 0, 0, 0.3));\n",
              "      fill: #FFFFFF;\n",
              "    }\n",
              "  </style>\n",
              "\n",
              "      <script>\n",
              "        const buttonEl =\n",
              "          document.querySelector('#df-36f36ef3-99d6-4c8f-8ef1-f1e179ac6d04 button.colab-df-convert');\n",
              "        buttonEl.style.display =\n",
              "          google.colab.kernel.accessAllowed ? 'block' : 'none';\n",
              "\n",
              "        async function convertToInteractive(key) {\n",
              "          const element = document.querySelector('#df-36f36ef3-99d6-4c8f-8ef1-f1e179ac6d04');\n",
              "          const dataTable =\n",
              "            await google.colab.kernel.invokeFunction('convertToInteractive',\n",
              "                                                     [key], {});\n",
              "          if (!dataTable) return;\n",
              "\n",
              "          const docLinkHtml = 'Like what you see? Visit the ' +\n",
              "            '<a target=\"_blank\" href=https://colab.research.google.com/notebooks/data_table.ipynb>data table notebook</a>'\n",
              "            + ' to learn more about interactive tables.';\n",
              "          element.innerHTML = '';\n",
              "          dataTable['output_type'] = 'display_data';\n",
              "          await google.colab.output.renderOutput(dataTable, element);\n",
              "          const docLink = document.createElement('div');\n",
              "          docLink.innerHTML = docLinkHtml;\n",
              "          element.appendChild(docLink);\n",
              "        }\n",
              "      </script>\n",
              "    </div>\n",
              "  </div>\n",
              "  "
            ]
          },
          "metadata": {},
          "execution_count": 22
        }
      ]
    },
    {
      "cell_type": "markdown",
      "source": [
        "# 4) Fit and plot a decision tree of depth 3"
      ],
      "metadata": {
        "id": "_dDNPDY5B6Mf"
      }
    },
    {
      "cell_type": "code",
      "source": [
        "from sklearn import tree"
      ],
      "metadata": {
        "id": "KlvMYlhyA1Eh"
      },
      "execution_count": 23,
      "outputs": []
    },
    {
      "cell_type": "code",
      "source": [
        "mod=tree.DecisionTreeClassifier(max_depth=3)"
      ],
      "metadata": {
        "id": "upHUEBmpB3_X"
      },
      "execution_count": 24,
      "outputs": []
    },
    {
      "cell_type": "code",
      "source": [
        "mod.fit(F_Inputs, target)"
      ],
      "metadata": {
        "colab": {
          "base_uri": "https://localhost:8080/"
        },
        "id": "V3sBr60BCSrR",
        "outputId": "1a1bb990-4d0c-47ac-f609-1ca8c7995cf0"
      },
      "execution_count": 25,
      "outputs": [
        {
          "output_type": "execute_result",
          "data": {
            "text/plain": [
              "DecisionTreeClassifier(max_depth=3)"
            ]
          },
          "metadata": {},
          "execution_count": 25
        }
      ]
    },
    {
      "cell_type": "code",
      "source": [
        "mod.score(F_Inputs, target)"
      ],
      "metadata": {
        "colab": {
          "base_uri": "https://localhost:8080/"
        },
        "id": "v2nSZY7PCcT3",
        "outputId": "fbf44d25-2946-43fd-84aa-57b53a10bdef"
      },
      "execution_count": 26,
      "outputs": [
        {
          "output_type": "execute_result",
          "data": {
            "text/plain": [
              "0.5163962612147925"
            ]
          },
          "metadata": {},
          "execution_count": 26
        }
      ]
    },
    {
      "cell_type": "code",
      "source": [
        "plt.figure(figsize=(18,7))\n",
        "tree.plot_tree(mod,max_depth=3, rounded=True, feature_names=df2.columns)"
      ],
      "metadata": {
        "colab": {
          "base_uri": "https://localhost:8080/",
          "height": 679
        },
        "id": "bc95-XysDNz0",
        "outputId": "9757491b-2eb3-4467-a828-752bd7258a47"
      },
      "execution_count": 27,
      "outputs": [
        {
          "output_type": "execute_result",
          "data": {
            "text/plain": [
              "[Text(0.5, 0.875, 'class_of_admission <= 13.5\\ngini = 0.569\\nsamples = 191934\\nvalue = [99082, 77169, 8236, 7447]'),\n",
              " Text(0.25, 0.625, 'class_of_admission <= 10.5\\ngini = 0.615\\nsamples = 17320\\nvalue = [8813, 5828, 1777, 902]'),\n",
              " Text(0.125, 0.375, 'class_of_admission <= 9.5\\ngini = 0.646\\nsamples = 6647\\nvalue = [3109, 2197, 1030, 311]'),\n",
              " Text(0.0625, 0.125, 'gini = 0.629\\nsamples = 5747\\nvalue = [2838, 1894, 735, 280]'),\n",
              " Text(0.1875, 0.125, 'gini = 0.687\\nsamples = 900\\nvalue = [271, 303, 295, 31]'),\n",
              " Text(0.375, 0.375, 'agent_state <= 7.5\\ngini = 0.591\\nsamples = 10673\\nvalue = [5704, 3631, 747, 591]'),\n",
              " Text(0.3125, 0.125, 'gini = 0.537\\nsamples = 1598\\nvalue = [967, 486, 67, 78]'),\n",
              " Text(0.4375, 0.125, 'gini = 0.599\\nsamples = 9075\\nvalue = [4737, 3145, 680, 513]'),\n",
              " Text(0.75, 0.625, 'class_of_admission <= 26.5\\ngini = 0.563\\nsamples = 174614\\nvalue = [90269, 71341, 6459, 6545]'),\n",
              " Text(0.625, 0.375, 'agent_state <= 8.5\\ngini = 0.56\\nsamples = 163870\\nvalue = [84653, 67793, 5577, 5847]'),\n",
              " Text(0.5625, 0.125, 'gini = 0.546\\nsamples = 30462\\nvalue = [16837, 11668, 959, 998]'),\n",
              " Text(0.6875, 0.125, 'gini = 0.562\\nsamples = 133408\\nvalue = [67816, 56125, 4618, 4849]'),\n",
              " Text(0.875, 0.375, 'agent_state <= 100.0\\ngini = 0.607\\nsamples = 10744\\nvalue = [5616, 3548, 882, 698]'),\n",
              " Text(0.8125, 0.125, 'gini = 0.612\\nsamples = 10042\\nvalue = [5111, 3453, 866, 612]'),\n",
              " Text(0.9375, 0.125, 'gini = 0.449\\nsamples = 702\\nvalue = [505, 95, 16, 86]')]"
            ]
          },
          "metadata": {},
          "execution_count": 27
        },
        {
          "output_type": "display_data",
          "data": {
            "text/plain": [
              "<Figure size 1296x504 with 1 Axes>"
            ],
            "image/png": "[encoded data removed]"
          },
          "metadata": {
            "needs_background": "light"
          }
        }
      ]
    },
    {
      "cell_type": "markdown",
      "source": [
        "# 5) Write your interpretation of the largest (by sample size) leaf node"
      ],
      "metadata": {
        "id": "sUh-fTDVFGJj"
      }
    },
    {
      "cell_type": "markdown",
      "source": [
        " #The largest sample leaf node is 133408 which is for agent_state and \n",
        " #it has a gini score of 0.562. This gini score is the highest among all the leaf nodes when we use the max_depth=3. \n",
        " #The lowest gini score is the one we look for to have the best outcome. In contrast, this one has the highest gini score with the highest number of samples. Here the gini is not homogeneous. "
      ],
      "metadata": {
        "id": "k49TnCrvQCYj"
      }
    },
    {
      "cell_type": "markdown",
      "source": [
        "# 6) Using a for loop, make your own train-test split and determine the best max_depth for out-of sample accuracy"
      ],
      "metadata": {
        "id": "fWWKRXs_I3P8"
      }
    },
    {
      "cell_type": "code",
      "source": [
        "Y=target"
      ],
      "metadata": {
        "id": "Jvluk61qI_ro"
      },
      "execution_count": 28,
      "outputs": []
    },
    {
      "cell_type": "code",
      "source": [
        "Y.head()"
      ],
      "metadata": {
        "colab": {
          "base_uri": "https://localhost:8080/"
        },
        "id": "8issTyWPLXYr",
        "outputId": "59eb2cf9-7e49-407f-9eea-175014a5b898"
      },
      "execution_count": 29,
      "outputs": [
        {
          "output_type": "execute_result",
          "data": {
            "text/plain": [
              "135269            Certified\n",
              "135271               Denied\n",
              "135272            Certified\n",
              "135274            Certified\n",
              "135275    Certified-Expired\n",
              "Name: case_status, dtype: object"
            ]
          },
          "metadata": {},
          "execution_count": 29
        }
      ]
    },
    {
      "cell_type": "code",
      "source": [
        "X=F_Inputs"
      ],
      "metadata": {
        "id": "5JMpsijzLaXq"
      },
      "execution_count": 30,
      "outputs": []
    },
    {
      "cell_type": "code",
      "source": [
        "for seed in range(100):\n",
        "  X_train, X_test, Y_train, Y_test=train_test_split(X,Y, test_size=.3, random_state=seed)"
      ],
      "metadata": {
        "id": "c0huP64iLdoW"
      },
      "execution_count": 31,
      "outputs": []
    },
    {
      "cell_type": "code",
      "source": [
        "mod=tree.DecisionTreeClassifier()"
      ],
      "metadata": {
        "id": "BBr9SGHuMOMZ"
      },
      "execution_count": 32,
      "outputs": []
    },
    {
      "cell_type": "code",
      "source": [
        "mod.fit(X_train, Y_train)"
      ],
      "metadata": {
        "colab": {
          "base_uri": "https://localhost:8080/"
        },
        "id": "xgAovi7FOvIa",
        "outputId": "f1c3a332-21f5-482e-c764-9a82ce163878"
      },
      "execution_count": 33,
      "outputs": [
        {
          "output_type": "execute_result",
          "data": {
            "text/plain": [
              "DecisionTreeClassifier()"
            ]
          },
          "metadata": {},
          "execution_count": 33
        }
      ]
    },
    {
      "cell_type": "code",
      "source": [
        "mod.predict(X_test)"
      ],
      "metadata": {
        "colab": {
          "base_uri": "https://localhost:8080/"
        },
        "id": "SeaDoMTWOzwT",
        "outputId": "33b364ca-3b1f-448c-e3fa-3ca8a3345cbb"
      },
      "execution_count": 36,
      "outputs": [
        {
          "output_type": "execute_result",
          "data": {
            "text/plain": [
              "array(['Certified', 'Certified-Expired', 'Certified', ..., 'Certified',\n",
              "       'Certified', 'Certified'], dtype=object)"
            ]
          },
          "metadata": {},
          "execution_count": 36
        }
      ]
    },
    {
      "cell_type": "code",
      "source": [
        "mod.score(X_test, Y_test)"
      ],
      "metadata": {
        "colab": {
          "base_uri": "https://localhost:8080/"
        },
        "id": "3o3QsoX3O4QR",
        "outputId": "c5856870-5813-4531-8372-958ebd24a398"
      },
      "execution_count": 37,
      "outputs": [
        {
          "output_type": "execute_result",
          "data": {
            "text/plain": [
              "0.564526493114048"
            ]
          },
          "metadata": {},
          "execution_count": 37
        }
      ]
    },
    {
      "cell_type": "code",
      "source": [
        "from sklearn.model_selection import GridSearchCV\n",
        "params={'max_depth':[None, 6,7,8,9,10,11,14,15,70,200,2000,3000,6000]}\n",
        "mod=tree.DecisionTreeClassifier()\n",
        "grid=GridSearchCV(mod, params, scoring='accuracy', cv=10)\n",
        "grid.fit(X_train, Y_train)\n",
        "grid.best_params_"
      ],
      "metadata": {
        "colab": {
          "base_uri": "https://localhost:8080/"
        },
        "id": "pYFi318MStQ8",
        "outputId": "734a10c4-9710-4311-c5c4-a3d2a1e9963b"
      },
      "execution_count": 51,
      "outputs": [
        {
          "output_type": "execute_result",
          "data": {
            "text/plain": [
              "{'max_depth': 3000}"
            ]
          },
          "metadata": {},
          "execution_count": 51
        }
      ]
    },
    {
      "cell_type": "markdown",
      "source": [
        "As per GridSearch, max_depth is 3000 for out of samply accuracy. Our training error will go down with this max_depth. "
      ],
      "metadata": {
        "id": "NFQtBJCCXPSO"
      }
    },
    {
      "cell_type": "code",
      "source": [
        "grid.best_score_"
      ],
      "metadata": {
        "colab": {
          "base_uri": "https://localhost:8080/"
        },
        "id": "bBaIT7wXXcR7",
        "outputId": "32c3fb65-0b2a-462e-aad4-5ab692b8536d"
      },
      "execution_count": 52,
      "outputs": [
        {
          "output_type": "execute_result",
          "data": {
            "text/plain": [
              "0.5630465331351274"
            ]
          },
          "metadata": {},
          "execution_count": 52
        }
      ]
    }
  ]
}