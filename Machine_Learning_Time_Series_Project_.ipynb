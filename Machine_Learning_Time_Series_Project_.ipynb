{
  "cells": [
    {
      "cell_type": "markdown",
      "metadata": {
        "id": "view-in-github",
        "colab_type": "text"
      },
      "source": [
        "<a href=\"https://colab.research.google.com/github/Mirucla/Applied-Data-Management/blob/main/Machine_Learning_Time_Series_Project_.ipynb\" target=\"_parent\"><img src=\"https://colab.research.google.com/assets/colab-badge.svg\" alt=\"Open In Colab\"/></a>"
      ]
    },
    {
      "cell_type": "code",
      "execution_count": null,
      "id": "0e776c1f",
      "metadata": {
        "id": "0e776c1f"
      },
      "outputs": [],
      "source": [
        "import pandas as pd \n",
        "import matplotlib.pyplot as plt \n",
        "import seaborn as sns\n",
        "from statsmodels.graphics.tsaplots import plot_acf\n",
        "import statsmodels.api as sm\n",
        "import numpy as np \n",
        "from sklearn.model_selection import train_test_split\n",
        "from statsmodels.tsa.stattools import adfuller, kpss\n",
        "from statsmodels.tsa.arima.model import ARIMA\n",
        "from sklearn.preprocessing import MinMaxScaler\n",
        "from keras.models import Sequential\n",
        "from keras.layers import Dense, LSTM\n",
        "import warnings"
      ]
    },
    {
      "cell_type": "code",
      "execution_count": null,
      "id": "ecec35df",
      "metadata": {
        "id": "ecec35df"
      },
      "outputs": [],
      "source": [
        "warnings.simplefilter(action='ignore', category=FutureWarning)"
      ]
    },
    {
      "cell_type": "markdown",
      "id": "489a6af2",
      "metadata": {
        "id": "489a6af2"
      },
      "source": [
        "# 1. Uploading the data and Formatting the date"
      ]
    },
    {
      "cell_type": "code",
      "source": [
        "from google.colab import drive"
      ],
      "metadata": {
        "id": "LkA3WwWbncya"
      },
      "id": "LkA3WwWbncya",
      "execution_count": null,
      "outputs": []
    },
    {
      "cell_type": "code",
      "source": [
        "drive.mount('/content/gdrive/', force_remount = True)"
      ],
      "metadata": {
        "colab": {
          "base_uri": "https://localhost:8080/"
        },
        "id": "RHWQtrcLnV2T",
        "outputId": "cc37fd12-c4d7-48e8-f3ca-447cc8f11529"
      },
      "id": "RHWQtrcLnV2T",
      "execution_count": null,
      "outputs": [
        {
          "output_type": "stream",
          "name": "stdout",
          "text": [
            "Mounted at /content/gdrive/\n"
          ]
        }
      ]
    },
    {
      "cell_type": "code",
      "execution_count": null,
      "id": "5bce66cb",
      "metadata": {
        "id": "5bce66cb"
      },
      "outputs": [],
      "source": [
        "df=pd.read_csv('/content/gdrive/MyDrive/BTC-Daily.csv')"
      ]
    },
    {
      "cell_type": "code",
      "execution_count": null,
      "id": "98e74a4c",
      "metadata": {
        "colab": {
          "base_uri": "https://localhost:8080/",
          "height": 206
        },
        "id": "98e74a4c",
        "outputId": "911796e5-da81-4a3d-fdfd-5f33c70c930b"
      },
      "outputs": [
        {
          "output_type": "execute_result",
          "data": {
            "text/plain": [
              "         unix                 date   symbol      open      high       low  \\\n",
              "0  1646092800  2022-03-01 00:00:00  BTC/USD  43221.71  43626.49  43185.48   \n",
              "1  1646006400  2022-02-28 00:00:00  BTC/USD  37717.10  44256.08  37468.99   \n",
              "2  1645920000  2022-02-27 00:00:00  BTC/USD  39146.66  39886.92  37015.74   \n",
              "3  1645833600  2022-02-26 00:00:00  BTC/USD  39242.64  40330.99  38600.00   \n",
              "4  1645747200  2022-02-25 00:00:00  BTC/USD  38360.93  39727.97  38027.61   \n",
              "\n",
              "      close   Volume BTC    Volume USD  \n",
              "0  43185.48    49.006289  2.116360e+06  \n",
              "1  43178.98  3160.618070  1.364723e+08  \n",
              "2  37712.68  1701.817043  6.418008e+07  \n",
              "3  39146.66   912.724087  3.573010e+07  \n",
              "4  39231.64  2202.851827  8.642149e+07  "
            ],
            "text/html": [
              "\n",
              "  <div id=\"df-72d5e166-216a-4f6b-9fe7-aa9f0585f9c3\">\n",
              "    <div class=\"colab-df-container\">\n",
              "      <div>\n",
              "<style scoped>\n",
              "    .dataframe tbody tr th:only-of-type {\n",
              "        vertical-align: middle;\n",
              "    }\n",
              "\n",
              "    .dataframe tbody tr th {\n",
              "        vertical-align: top;\n",
              "    }\n",
              "\n",
              "    .dataframe thead th {\n",
              "        text-align: right;\n",
              "    }\n",
              "</style>\n",
              "<table border=\"1\" class=\"dataframe\">\n",
              "  <thead>\n",
              "    <tr style=\"text-align: right;\">\n",
              "      <th></th>\n",
              "      <th>unix</th>\n",
              "      <th>date</th>\n",
              "      <th>symbol</th>\n",
              "      <th>open</th>\n",
              "      <th>high</th>\n",
              "      <th>low</th>\n",
              "      <th>close</th>\n",
              "      <th>Volume BTC</th>\n",
              "      <th>Volume USD</th>\n",
              "    </tr>\n",
              "  </thead>\n",
              "  <tbody>\n",
              "    <tr>\n",
              "      <th>0</th>\n",
              "      <td>1646092800</td>\n",
              "      <td>2022-03-01 00:00:00</td>\n",
              "      <td>BTC/USD</td>\n",
              "      <td>43221.71</td>\n",
              "      <td>43626.49</td>\n",
              "      <td>43185.48</td>\n",
              "      <td>43185.48</td>\n",
              "      <td>49.006289</td>\n",
              "      <td>2.116360e+06</td>\n",
              "    </tr>\n",
              "    <tr>\n",
              "      <th>1</th>\n",
              "      <td>1646006400</td>\n",
              "      <td>2022-02-28 00:00:00</td>\n",
              "      <td>BTC/USD</td>\n",
              "      <td>37717.10</td>\n",
              "      <td>44256.08</td>\n",
              "      <td>37468.99</td>\n",
              "      <td>43178.98</td>\n",
              "      <td>3160.618070</td>\n",
              "      <td>1.364723e+08</td>\n",
              "    </tr>\n",
              "    <tr>\n",
              "      <th>2</th>\n",
              "      <td>1645920000</td>\n",
              "      <td>2022-02-27 00:00:00</td>\n",
              "      <td>BTC/USD</td>\n",
              "      <td>39146.66</td>\n",
              "      <td>39886.92</td>\n",
              "      <td>37015.74</td>\n",
              "      <td>37712.68</td>\n",
              "      <td>1701.817043</td>\n",
              "      <td>6.418008e+07</td>\n",
              "    </tr>\n",
              "    <tr>\n",
              "      <th>3</th>\n",
              "      <td>1645833600</td>\n",
              "      <td>2022-02-26 00:00:00</td>\n",
              "      <td>BTC/USD</td>\n",
              "      <td>39242.64</td>\n",
              "      <td>40330.99</td>\n",
              "      <td>38600.00</td>\n",
              "      <td>39146.66</td>\n",
              "      <td>912.724087</td>\n",
              "      <td>3.573010e+07</td>\n",
              "    </tr>\n",
              "    <tr>\n",
              "      <th>4</th>\n",
              "      <td>1645747200</td>\n",
              "      <td>2022-02-25 00:00:00</td>\n",
              "      <td>BTC/USD</td>\n",
              "      <td>38360.93</td>\n",
              "      <td>39727.97</td>\n",
              "      <td>38027.61</td>\n",
              "      <td>39231.64</td>\n",
              "      <td>2202.851827</td>\n",
              "      <td>8.642149e+07</td>\n",
              "    </tr>\n",
              "  </tbody>\n",
              "</table>\n",
              "</div>\n",
              "      <button class=\"colab-df-convert\" onclick=\"convertToInteractive('df-72d5e166-216a-4f6b-9fe7-aa9f0585f9c3')\"\n",
              "              title=\"Convert this dataframe to an interactive table.\"\n",
              "              style=\"display:none;\">\n",
              "        \n",
              "  <svg xmlns=\"http://www.w3.org/2000/svg\" height=\"24px\"viewBox=\"0 0 24 24\"\n",
              "       width=\"24px\">\n",
              "    <path d=\"M0 0h24v24H0V0z\" fill=\"none\"/>\n",
              "    <path d=\"M18.56 5.44l.94 2.06.94-2.06 2.06-.94-2.06-.94-.94-2.06-.94 2.06-2.06.94zm-11 1L8.5 8.5l.94-2.06 2.06-.94-2.06-.94L8.5 2.5l-.94 2.06-2.06.94zm10 10l.94 2.06.94-2.06 2.06-.94-2.06-.94-.94-2.06-.94 2.06-2.06.94z\"/><path d=\"M17.41 7.96l-1.37-1.37c-.4-.4-.92-.59-1.43-.59-.52 0-1.04.2-1.43.59L10.3 9.45l-7.72 7.72c-.78.78-.78 2.05 0 2.83L4 21.41c.39.39.9.59 1.41.59.51 0 1.02-.2 1.41-.59l7.78-7.78 2.81-2.81c.8-.78.8-2.07 0-2.86zM5.41 20L4 18.59l7.72-7.72 1.47 1.35L5.41 20z\"/>\n",
              "  </svg>\n",
              "      </button>\n",
              "      \n",
              "  <style>\n",
              "    .colab-df-container {\n",
              "      display:flex;\n",
              "      flex-wrap:wrap;\n",
              "      gap: 12px;\n",
              "    }\n",
              "\n",
              "    .colab-df-convert {\n",
              "      background-color: #E8F0FE;\n",
              "      border: none;\n",
              "      border-radius: 50%;\n",
              "      cursor: pointer;\n",
              "      display: none;\n",
              "      fill: #1967D2;\n",
              "      height: 32px;\n",
              "      padding: 0 0 0 0;\n",
              "      width: 32px;\n",
              "    }\n",
              "\n",
              "    .colab-df-convert:hover {\n",
              "      background-color: #E2EBFA;\n",
              "      box-shadow: 0px 1px 2px rgba(60, 64, 67, 0.3), 0px 1px 3px 1px rgba(60, 64, 67, 0.15);\n",
              "      fill: #174EA6;\n",
              "    }\n",
              "\n",
              "    [theme=dark] .colab-df-convert {\n",
              "      background-color: #3B4455;\n",
              "      fill: #D2E3FC;\n",
              "    }\n",
              "\n",
              "    [theme=dark] .colab-df-convert:hover {\n",
              "      background-color: #434B5C;\n",
              "      box-shadow: 0px 1px 3px 1px rgba(0, 0, 0, 0.15);\n",
              "      filter: drop-shadow(0px 1px 2px rgba(0, 0, 0, 0.3));\n",
              "      fill: #FFFFFF;\n",
              "    }\n",
              "  </style>\n",
              "\n",
              "      <script>\n",
              "        const buttonEl =\n",
              "          document.querySelector('#df-72d5e166-216a-4f6b-9fe7-aa9f0585f9c3 button.colab-df-convert');\n",
              "        buttonEl.style.display =\n",
              "          google.colab.kernel.accessAllowed ? 'block' : 'none';\n",
              "\n",
              "        async function convertToInteractive(key) {\n",
              "          const element = document.querySelector('#df-72d5e166-216a-4f6b-9fe7-aa9f0585f9c3');\n",
              "          const dataTable =\n",
              "            await google.colab.kernel.invokeFunction('convertToInteractive',\n",
              "                                                     [key], {});\n",
              "          if (!dataTable) return;\n",
              "\n",
              "          const docLinkHtml = 'Like what you see? Visit the ' +\n",
              "            '<a target=\"_blank\" href=https://colab.research.google.com/notebooks/data_table.ipynb>data table notebook</a>'\n",
              "            + ' to learn more about interactive tables.';\n",
              "          element.innerHTML = '';\n",
              "          dataTable['output_type'] = 'display_data';\n",
              "          await google.colab.output.renderOutput(dataTable, element);\n",
              "          const docLink = document.createElement('div');\n",
              "          docLink.innerHTML = docLinkHtml;\n",
              "          element.appendChild(docLink);\n",
              "        }\n",
              "      </script>\n",
              "    </div>\n",
              "  </div>\n",
              "  "
            ]
          },
          "metadata": {},
          "execution_count": 12
        }
      ],
      "source": [
        "df.head()"
      ]
    },
    {
      "cell_type": "code",
      "execution_count": null,
      "id": "b118437b",
      "metadata": {
        "colab": {
          "base_uri": "https://localhost:8080/"
        },
        "id": "b118437b",
        "outputId": "695773d9-b026-4420-83f6-9cd588e06b05"
      },
      "outputs": [
        {
          "output_type": "execute_result",
          "data": {
            "text/plain": [
              "<bound method NDFrame.describe of             unix                 date   symbol      open      high       low  \\\n",
              "0     1646092800  2022-03-01 00:00:00  BTC/USD  43221.71  43626.49  43185.48   \n",
              "1     1646006400  2022-02-28 00:00:00  BTC/USD  37717.10  44256.08  37468.99   \n",
              "2     1645920000  2022-02-27 00:00:00  BTC/USD  39146.66  39886.92  37015.74   \n",
              "3     1645833600  2022-02-26 00:00:00  BTC/USD  39242.64  40330.99  38600.00   \n",
              "4     1645747200  2022-02-25 00:00:00  BTC/USD  38360.93  39727.97  38027.61   \n",
              "...          ...                  ...      ...       ...       ...       ...   \n",
              "2646  1417478400  2014-12-02 00:00:00  BTC/USD    378.39    382.86    375.23   \n",
              "2647  1417392000  2014-12-01 00:00:00  BTC/USD    376.40    382.31    373.03   \n",
              "2648  1417305600  2014-11-30 00:00:00  BTC/USD    376.57    381.99    373.32   \n",
              "2649  1417219200  2014-11-29 00:00:00  BTC/USD    376.42    386.60    372.25   \n",
              "2650  1417132800  2014-11-28 00:00:00  BTC/USD    363.59    381.34    360.57   \n",
              "\n",
              "         close    Volume BTC    Volume USD  \n",
              "0     43185.48  4.900629e+01  2.116360e+06  \n",
              "1     43178.98  3.160618e+03  1.364723e+08  \n",
              "2     37712.68  1.701817e+03  6.418008e+07  \n",
              "3     39146.66  9.127241e+02  3.573010e+07  \n",
              "4     39231.64  2.202852e+03  8.642149e+07  \n",
              "...        ...           ...           ...  \n",
              "2646    379.25  2.593576e+06  6.832530e+03  \n",
              "2647    378.39  2.520662e+06  6.660560e+03  \n",
              "2648    373.34  1.145567e+06  3.046330e+03  \n",
              "2649    376.72  2.746157e+06  7.245190e+03  \n",
              "2650    376.28  3.220878e+06  8.617150e+03  \n",
              "\n",
              "[2651 rows x 9 columns]>"
            ]
          },
          "metadata": {},
          "execution_count": 13
        }
      ],
      "source": [
        "df.describe"
      ]
    },
    {
      "cell_type": "code",
      "execution_count": null,
      "id": "640a33a3",
      "metadata": {
        "colab": {
          "base_uri": "https://localhost:8080/"
        },
        "id": "640a33a3",
        "outputId": "f595c9c1-d21d-44c8-9217-ddf10b0542c4"
      },
      "outputs": [
        {
          "output_type": "execute_result",
          "data": {
            "text/plain": [
              "(2651, 9)"
            ]
          },
          "metadata": {},
          "execution_count": 14
        }
      ],
      "source": [
        "df.shape"
      ]
    },
    {
      "cell_type": "code",
      "execution_count": null,
      "id": "53416398",
      "metadata": {
        "colab": {
          "base_uri": "https://localhost:8080/",
          "height": 238
        },
        "id": "53416398",
        "outputId": "f7011762-e361-448e-e13c-f428509d02b8"
      },
      "outputs": [
        {
          "output_type": "execute_result",
          "data": {
            "text/plain": [
              "             close\n",
              "date              \n",
              "2014-11-28  376.28\n",
              "2014-11-29  376.72\n",
              "2014-11-30  373.34\n",
              "2014-12-01  378.39\n",
              "2014-12-02  379.25"
            ],
            "text/html": [
              "\n",
              "  <div id=\"df-26b357fa-0953-4cfa-88c3-6ad55f31a8c6\">\n",
              "    <div class=\"colab-df-container\">\n",
              "      <div>\n",
              "<style scoped>\n",
              "    .dataframe tbody tr th:only-of-type {\n",
              "        vertical-align: middle;\n",
              "    }\n",
              "\n",
              "    .dataframe tbody tr th {\n",
              "        vertical-align: top;\n",
              "    }\n",
              "\n",
              "    .dataframe thead th {\n",
              "        text-align: right;\n",
              "    }\n",
              "</style>\n",
              "<table border=\"1\" class=\"dataframe\">\n",
              "  <thead>\n",
              "    <tr style=\"text-align: right;\">\n",
              "      <th></th>\n",
              "      <th>close</th>\n",
              "    </tr>\n",
              "    <tr>\n",
              "      <th>date</th>\n",
              "      <th></th>\n",
              "    </tr>\n",
              "  </thead>\n",
              "  <tbody>\n",
              "    <tr>\n",
              "      <th>2014-11-28</th>\n",
              "      <td>376.28</td>\n",
              "    </tr>\n",
              "    <tr>\n",
              "      <th>2014-11-29</th>\n",
              "      <td>376.72</td>\n",
              "    </tr>\n",
              "    <tr>\n",
              "      <th>2014-11-30</th>\n",
              "      <td>373.34</td>\n",
              "    </tr>\n",
              "    <tr>\n",
              "      <th>2014-12-01</th>\n",
              "      <td>378.39</td>\n",
              "    </tr>\n",
              "    <tr>\n",
              "      <th>2014-12-02</th>\n",
              "      <td>379.25</td>\n",
              "    </tr>\n",
              "  </tbody>\n",
              "</table>\n",
              "</div>\n",
              "      <button class=\"colab-df-convert\" onclick=\"convertToInteractive('df-26b357fa-0953-4cfa-88c3-6ad55f31a8c6')\"\n",
              "              title=\"Convert this dataframe to an interactive table.\"\n",
              "              style=\"display:none;\">\n",
              "        \n",
              "  <svg xmlns=\"http://www.w3.org/2000/svg\" height=\"24px\"viewBox=\"0 0 24 24\"\n",
              "       width=\"24px\">\n",
              "    <path d=\"M0 0h24v24H0V0z\" fill=\"none\"/>\n",
              "    <path d=\"M18.56 5.44l.94 2.06.94-2.06 2.06-.94-2.06-.94-.94-2.06-.94 2.06-2.06.94zm-11 1L8.5 8.5l.94-2.06 2.06-.94-2.06-.94L8.5 2.5l-.94 2.06-2.06.94zm10 10l.94 2.06.94-2.06 2.06-.94-2.06-.94-.94-2.06-.94 2.06-2.06.94z\"/><path d=\"M17.41 7.96l-1.37-1.37c-.4-.4-.92-.59-1.43-.59-.52 0-1.04.2-1.43.59L10.3 9.45l-7.72 7.72c-.78.78-.78 2.05 0 2.83L4 21.41c.39.39.9.59 1.41.59.51 0 1.02-.2 1.41-.59l7.78-7.78 2.81-2.81c.8-.78.8-2.07 0-2.86zM5.41 20L4 18.59l7.72-7.72 1.47 1.35L5.41 20z\"/>\n",
              "  </svg>\n",
              "      </button>\n",
              "      \n",
              "  <style>\n",
              "    .colab-df-container {\n",
              "      display:flex;\n",
              "      flex-wrap:wrap;\n",
              "      gap: 12px;\n",
              "    }\n",
              "\n",
              "    .colab-df-convert {\n",
              "      background-color: #E8F0FE;\n",
              "      border: none;\n",
              "      border-radius: 50%;\n",
              "      cursor: pointer;\n",
              "      display: none;\n",
              "      fill: #1967D2;\n",
              "      height: 32px;\n",
              "      padding: 0 0 0 0;\n",
              "      width: 32px;\n",
              "    }\n",
              "\n",
              "    .colab-df-convert:hover {\n",
              "      background-color: #E2EBFA;\n",
              "      box-shadow: 0px 1px 2px rgba(60, 64, 67, 0.3), 0px 1px 3px 1px rgba(60, 64, 67, 0.15);\n",
              "      fill: #174EA6;\n",
              "    }\n",
              "\n",
              "    [theme=dark] .colab-df-convert {\n",
              "      background-color: #3B4455;\n",
              "      fill: #D2E3FC;\n",
              "    }\n",
              "\n",
              "    [theme=dark] .colab-df-convert:hover {\n",
              "      background-color: #434B5C;\n",
              "      box-shadow: 0px 1px 3px 1px rgba(0, 0, 0, 0.15);\n",
              "      filter: drop-shadow(0px 1px 2px rgba(0, 0, 0, 0.3));\n",
              "      fill: #FFFFFF;\n",
              "    }\n",
              "  </style>\n",
              "\n",
              "      <script>\n",
              "        const buttonEl =\n",
              "          document.querySelector('#df-26b357fa-0953-4cfa-88c3-6ad55f31a8c6 button.colab-df-convert');\n",
              "        buttonEl.style.display =\n",
              "          google.colab.kernel.accessAllowed ? 'block' : 'none';\n",
              "\n",
              "        async function convertToInteractive(key) {\n",
              "          const element = document.querySelector('#df-26b357fa-0953-4cfa-88c3-6ad55f31a8c6');\n",
              "          const dataTable =\n",
              "            await google.colab.kernel.invokeFunction('convertToInteractive',\n",
              "                                                     [key], {});\n",
              "          if (!dataTable) return;\n",
              "\n",
              "          const docLinkHtml = 'Like what you see? Visit the ' +\n",
              "            '<a target=\"_blank\" href=https://colab.research.google.com/notebooks/data_table.ipynb>data table notebook</a>'\n",
              "            + ' to learn more about interactive tables.';\n",
              "          element.innerHTML = '';\n",
              "          dataTable['output_type'] = 'display_data';\n",
              "          await google.colab.output.renderOutput(dataTable, element);\n",
              "          const docLink = document.createElement('div');\n",
              "          docLink.innerHTML = docLinkHtml;\n",
              "          element.appendChild(docLink);\n",
              "        }\n",
              "      </script>\n",
              "    </div>\n",
              "  </div>\n",
              "  "
            ]
          },
          "metadata": {},
          "execution_count": 15
        }
      ],
      "source": [
        "# Convert the 'date' column to a pandas datetime object and set it as the index\n",
        "df['date'] = pd.to_datetime(df['date'])\n",
        "df.set_index('date', inplace=True)\n",
        "\n",
        "# Keep only the 'close' column\n",
        "df = df[['close']]\n",
        "\n",
        "# Setting a Daily frequency and forward fill missing values\n",
        "df = df.asfreq('D').ffill()\n",
        "df.head()"
      ]
    },
    {
      "cell_type": "code",
      "execution_count": null,
      "id": "83118025",
      "metadata": {
        "colab": {
          "base_uri": "https://localhost:8080/"
        },
        "id": "83118025",
        "outputId": "5f7df0ef-d516-4e82-be95-db8dea6049e5"
      },
      "outputs": [
        {
          "output_type": "execute_result",
          "data": {
            "text/plain": [
              "(2651,)"
            ]
          },
          "metadata": {},
          "execution_count": 16
        }
      ],
      "source": [
        "df['close'].shape"
      ]
    },
    {
      "cell_type": "code",
      "execution_count": null,
      "id": "620af39d",
      "metadata": {
        "id": "620af39d"
      },
      "outputs": [],
      "source": [
        "# Checking whether there is any null value "
      ]
    },
    {
      "cell_type": "code",
      "execution_count": null,
      "id": "295c4a9c",
      "metadata": {
        "colab": {
          "base_uri": "https://localhost:8080/"
        },
        "id": "295c4a9c",
        "outputId": "9772524b-e883-43e2-a7d1-86bc5d4d4dc9"
      },
      "outputs": [
        {
          "output_type": "execute_result",
          "data": {
            "text/plain": [
              "close    0\n",
              "dtype: int64"
            ]
          },
          "metadata": {},
          "execution_count": 18
        }
      ],
      "source": [
        "df.isnull().sum()"
      ]
    },
    {
      "cell_type": "markdown",
      "id": "c3ae8e56",
      "metadata": {
        "id": "c3ae8e56"
      },
      "source": [
        "# 2. Exploratory Data Analysis (EDA)"
      ]
    },
    {
      "cell_type": "code",
      "execution_count": null,
      "id": "8babed32",
      "metadata": {
        "colab": {
          "base_uri": "https://localhost:8080/",
          "height": 295
        },
        "id": "8babed32",
        "outputId": "bd6bc462-3323-4981-cb7e-afd5b3816297"
      },
      "outputs": [
        {
          "output_type": "display_data",
          "data": {
            "text/plain": [
              "<Figure size 432x288 with 1 Axes>"
            ],
            "image/png": "[encoded data removed]"
          },
          "metadata": {
            "needs_background": "light"
          }
        }
      ],
      "source": [
        "# Create a time series plot\n",
        "plt.plot(df.index, df['close'])\n",
        "plt.title('Time Series Plot')\n",
        "plt.xlabel('Date')\n",
        "plt.ylabel('Value')\n",
        "plt.grid()\n",
        "plt.show()"
      ]
    },
    {
      "cell_type": "markdown",
      "id": "efb8f17a",
      "metadata": {
        "id": "efb8f17a"
      },
      "source": [
        "As we can observe from the time series plot, the price data is not covariance stationary. Its mean and variance are not constant over time and they are changing over time. This kind of data is not fit for running any kind of time sereis modelling. We need to make the data stationary before applying the model "
      ]
    },
    {
      "cell_type": "code",
      "execution_count": null,
      "id": "ed609437",
      "metadata": {
        "colab": {
          "base_uri": "https://localhost:8080/",
          "height": 295
        },
        "id": "ed609437",
        "outputId": "36794a10-647f-439a-c625-e5e785e300ad"
      },
      "outputs": [
        {
          "output_type": "display_data",
          "data": {
            "text/plain": [
              "<Figure size 432x288 with 1 Axes>"
            ],
            "image/png": "[encoded data removed]"
          },
          "metadata": {
            "needs_background": "light"
          }
        }
      ],
      "source": [
        "# Create an autocorrelation plot\n",
        "plot_acf(df['close'], lags=20)\n",
        "plt.title('Autocorrelation Plot')\n",
        "plt.xlabel('Lag')\n",
        "plt.ylabel('Autocorrelation')\n",
        "plt.show()"
      ]
    },
    {
      "cell_type": "markdown",
      "id": "688b4e31",
      "metadata": {
        "id": "688b4e31"
      },
      "source": [
        "As we can observe from the autocorrelation graph, the data is almost perfectly positively correlated. Having autocorrelation of 1 for every lag can be problematic as it violates the assumption of independence, makes statistical tests unreliable, and suggests the presence of unmodeled processes.Therefore, we need to address this issue. We need to look for trends, seasonality, or other patterns that may be causing the autocorrelation.We may use the differencing to remove a trend or seasonality from the data."
      ]
    },
    {
      "cell_type": "code",
      "execution_count": null,
      "id": "09914920",
      "metadata": {
        "colab": {
          "base_uri": "https://localhost:8080/",
          "height": 329
        },
        "id": "09914920",
        "outputId": "6ef206f6-0659-4169-93d3-813372e2d400"
      },
      "outputs": [
        {
          "output_type": "display_data",
          "data": {
            "text/plain": [
              "<Figure size 432x288 with 4 Axes>"
            ],
            "image/png": "[encoded data removed]"
          },
          "metadata": {
            "needs_background": "light"
          }
        },
        {
          "output_type": "display_data",
          "data": {
            "text/plain": [
              "<Figure size 1440x720 with 0 Axes>"
            ]
          },
          "metadata": {}
        }
      ],
      "source": [
        "# Create a seasonal plot\n",
        "seasonal_decomposition = sm.tsa.seasonal_decompose(df['close'], model='additive', period=12)\n",
        "seasonal_decomposition.plot()\n",
        "plt.title('Seasonal Plot')\n",
        "plt.xlabel('Date')\n",
        "plt.ylabel('Value')\n",
        "plt.figure(figsize=(20, 10))\n",
        "plt.show()"
      ]
    },
    {
      "cell_type": "markdown",
      "id": "4b730c13",
      "metadata": {
        "id": "4b730c13"
      },
      "source": [
        "The seasonal pattern is small relative to the overall level of the data, it may not be a significant problem. Moreover, the seasonal pattern is consistent and predictable. Therefore, this may not be probelm for prediction as well. "
      ]
    },
    {
      "cell_type": "code",
      "execution_count": null,
      "id": "9109f02d",
      "metadata": {
        "colab": {
          "base_uri": "https://localhost:8080/",
          "height": 295
        },
        "id": "9109f02d",
        "outputId": "64cbacad-0ac6-4b09-bf13-fed351b5ac63"
      },
      "outputs": [
        {
          "output_type": "display_data",
          "data": {
            "text/plain": [
              "<Figure size 432x288 with 1 Axes>"
            ],
            "image/png": "[encoded data removed]"
          },
          "metadata": {
            "needs_background": "light"
          }
        }
      ],
      "source": [
        "# Create a boxplot\n",
        "sns.boxplot(df['close'])\n",
        "plt.title('Boxplot')\n",
        "plt.xlabel('Value')\n",
        "plt.ylabel('')\n",
        "plt.show()"
      ]
    },
    {
      "cell_type": "markdown",
      "id": "ea7c424d",
      "metadata": {
        "id": "ea7c424d"
      },
      "source": [
        "As we can observe from the boxplot, there are many genuine outliers in the dataset. when there are a lot of genuine extreme outliers in a dataset, it can be challenging to determine how to deal with them. We may consider transforming the data, using robust statistical methods, removing outliers. However, we are not considering removing the outliers as they are genuine. "
      ]
    },
    {
      "cell_type": "code",
      "execution_count": null,
      "id": "c2f0e7c0",
      "metadata": {
        "colab": {
          "base_uri": "https://localhost:8080/",
          "height": 295
        },
        "id": "c2f0e7c0",
        "outputId": "2951dcca-ad95-4369-d3d7-ac78017fb94d"
      },
      "outputs": [
        {
          "output_type": "display_data",
          "data": {
            "text/plain": [
              "<Figure size 432x288 with 1 Axes>"
            ],
            "image/png": "[encoded data removed]"
          },
          "metadata": {
            "needs_background": "light"
          }
        }
      ],
      "source": [
        "# Create a histogram\n",
        "plt.hist(df['close'], bins=20)\n",
        "\n",
        "# Set the plot title and axis labels\n",
        "plt.title('Histogram')\n",
        "plt.xlabel('Value')\n",
        "plt.ylabel('Frequency')\n",
        "\n",
        "# Display the plot\n",
        "plt.show()"
      ]
    },
    {
      "cell_type": "markdown",
      "id": "d9c41297",
      "metadata": {
        "id": "d9c41297"
      },
      "source": [
        "From the histogram, we also observe that there are many genuine outliers and the time series plot also shows that the price of bitcoin has increased exceedingly over time. "
      ]
    },
    {
      "cell_type": "code",
      "execution_count": null,
      "id": "3436fc68",
      "metadata": {
        "colab": {
          "base_uri": "https://localhost:8080/",
          "height": 295
        },
        "id": "3436fc68",
        "outputId": "bd6c825f-094f-4873-a227-a5f0915bd16f"
      },
      "outputs": [
        {
          "output_type": "display_data",
          "data": {
            "text/plain": [
              "<Figure size 432x288 with 1 Axes>"
            ],
            "image/png": "[encoded data removed]"
          },
          "metadata": {
            "needs_background": "light"
          }
        }
      ],
      "source": [
        "sm.qqplot(df['close'], line='s')\n",
        "plt.title('QQ plot of Bitcoin Close Price')\n",
        "plt.show()"
      ]
    },
    {
      "cell_type": "markdown",
      "id": "b9755bd9",
      "metadata": {
        "id": "b9755bd9"
      },
      "source": [
        "QQ plot validates the fact that there are extreeme outliers int the dataset. Therefore, we need to adddress this issue. Moreover, the data is not normally distributed as it is not close to 45 degree line in the QQ Plot. "
      ]
    },
    {
      "cell_type": "markdown",
      "id": "ba63b04a",
      "metadata": {
        "id": "ba63b04a"
      },
      "source": [
        "# 3. Addressing the issue of outliers, seasonality and other patterns of the data "
      ]
    },
    {
      "cell_type": "code",
      "execution_count": null,
      "id": "0df13e2f",
      "metadata": {
        "colab": {
          "base_uri": "https://localhost:8080/",
          "height": 281
        },
        "id": "0df13e2f",
        "outputId": "8b5d38d2-32d7-441e-d037-1c1bc78093dd"
      },
      "outputs": [
        {
          "output_type": "display_data",
          "data": {
            "text/plain": [
              "<Figure size 432x288 with 2 Axes>"
            ],
            "image/png": "[encoded data removed]"
          },
          "metadata": {
            "needs_background": "light"
          }
        }
      ],
      "source": [
        "# Difference the data to remove trends\n",
        "df_diff = df.diff().dropna()\n",
        "\n",
        "# Plot the original and differenced data\n",
        "fig, axs = plt.subplots(2, sharex=True, sharey=False)\n",
        "axs[0].plot(df)\n",
        "axs[0].set(title='Original Data')\n",
        "axs[1].plot(df_diff)\n",
        "axs[1].set(title='Differenced Data')\n",
        "plt.show()"
      ]
    },
    {
      "cell_type": "markdown",
      "id": "f590b2e3",
      "metadata": {
        "id": "f590b2e3"
      },
      "source": [
        "When we take the first difference, we observe that the data seems normal except some volatility in the year 2021 and 2022. Based on this transformation, we can model the data for future prediction. "
      ]
    },
    {
      "cell_type": "code",
      "execution_count": null,
      "id": "0003e8a7",
      "metadata": {
        "colab": {
          "base_uri": "https://localhost:8080/",
          "height": 281
        },
        "id": "0003e8a7",
        "outputId": "f67cfec7-a14b-4e24-82bb-911be9a11157"
      },
      "outputs": [
        {
          "output_type": "display_data",
          "data": {
            "text/plain": [
              "<Figure size 432x288 with 2 Axes>"
            ],
            "image/png": "[encoded data removed]"
          },
          "metadata": {
            "needs_background": "light"
          }
        }
      ],
      "source": [
        "# Take the log transformation of the data\n",
        "df_log = np.log(df)\n",
        "fig, axs = plt.subplots(2, sharex=True, sharey=False)\n",
        "axs[0].plot(df)\n",
        "axs[0].set(title='Original Data')\n",
        "axs[1].plot(df_log)\n",
        "axs[1].set(title='Log-Transformed Data')\n",
        "plt.show()"
      ]
    },
    {
      "cell_type": "markdown",
      "id": "2afbd87c",
      "metadata": {
        "id": "2afbd87c"
      },
      "source": [
        "As we can observe from the log-transformed graph, it is not that much helpful as the data does not look normal after log transformation. Therefore, log transformation is not effective in addressing the issue of outliers and skewness in the dataset. "
      ]
    },
    {
      "cell_type": "code",
      "execution_count": null,
      "id": "ca55182e",
      "metadata": {
        "colab": {
          "base_uri": "https://localhost:8080/",
          "height": 281
        },
        "id": "ca55182e",
        "outputId": "9c3db192-71b3-43dd-a01f-3d5083d83515"
      },
      "outputs": [
        {
          "output_type": "display_data",
          "data": {
            "text/plain": [
              "<Figure size 432x288 with 2 Axes>"
            ],
            "image/png": "[encoded data removed]"
          },
          "metadata": {
            "needs_background": "light"
          }
        }
      ],
      "source": [
        "# Apply moving average smoothing with window size 7\n",
        "window_size = 30\n",
        "df_ma = df.rolling(window=window_size).mean()\n",
        "fig, axs = plt.subplots(2, sharex=True, sharey=False)\n",
        "axs[0].plot(df)\n",
        "axs[0].set(title='Original Data')\n",
        "axs[1].plot(df_ma)\n",
        "axs[1].set(title='Smoothed Data with Window Size {}'.format(window_size))\n",
        "plt.show()"
      ]
    },
    {
      "cell_type": "markdown",
      "id": "4a9492fa",
      "metadata": {
        "id": "4a9492fa"
      },
      "source": [
        "As can be observed, smoothing the data with window size does not help much as the patter of the data is almost similar. It is not addressing the issue of outliers and skewness in the dataset. "
      ]
    },
    {
      "cell_type": "code",
      "execution_count": null,
      "id": "58a46d28",
      "metadata": {
        "colab": {
          "base_uri": "https://localhost:8080/",
          "height": 281
        },
        "id": "58a46d28",
        "outputId": "f933adbd-3217-4123-d377-146c8404f92e"
      },
      "outputs": [
        {
          "output_type": "display_data",
          "data": {
            "text/plain": [
              "<Figure size 432x288 with 2 Axes>"
            ],
            "image/png": "[encoded data removed]"
          },
          "metadata": {
            "needs_background": "light"
          }
        }
      ],
      "source": [
        "# Apply seasonal differencing with lag 12 (i.e., 1 year)\n",
        "lag = 12\n",
        "df_seasonal_diff = df.diff(lag)\n",
        "fig, axs = plt.subplots(2, sharex=True, sharey=False)\n",
        "axs[0].plot(df)\n",
        "axs[0].set(title='Original Data')\n",
        "axs[1].plot(df_seasonal_diff)\n",
        "axs[1].set(title='Seasonally Differenced Data with Lag {}'.format(lag))\n",
        "plt.show()"
      ]
    },
    {
      "cell_type": "markdown",
      "id": "bd0cd8d9",
      "metadata": {
        "id": "bd0cd8d9"
      },
      "source": [
        "Surprisingly the seasonal differencing is mostly effective in addressing the issue of outliers and skewness in the dataset. Though there are highl volatility in 2021 and 2022 period, we can apply seasonal differencing as well to address the issue of outliers and other irregula patterns. "
      ]
    },
    {
      "cell_type": "markdown",
      "id": "cd4a41e4",
      "metadata": {
        "id": "cd4a41e4"
      },
      "source": [
        "# 4. ADF and KPSS test before differencing "
      ]
    },
    {
      "cell_type": "code",
      "execution_count": null,
      "id": "1818848e",
      "metadata": {
        "colab": {
          "base_uri": "https://localhost:8080/"
        },
        "id": "1818848e",
        "outputId": "e7f0df29-08b2-4794-974a-88ad2c4047a4"
      },
      "outputs": [
        {
          "output_type": "stream",
          "name": "stdout",
          "text": [
            "ADF statistic: -0.9875841417510546\n",
            "p-value: 0.7577657213555864\n",
            "Critical values: {'1%': -3.4328464582522136, '5%': -2.8626429445545245, '10%': -2.5673571362774994}\n"
          ]
        }
      ],
      "source": [
        "# Perform ADF test\n",
        "adf_result = adfuller(df['close'])\n",
        "print('ADF statistic:', adf_result[0])\n",
        "print('p-value:', adf_result[1])\n",
        "print('Critical values:', adf_result[4])"
      ]
    },
    {
      "cell_type": "code",
      "execution_count": null,
      "id": "c4662767",
      "metadata": {
        "colab": {
          "base_uri": "https://localhost:8080/"
        },
        "id": "c4662767",
        "outputId": "4f30606c-8eee-41de-cdd7-40380e9ab033"
      },
      "outputs": [
        {
          "output_type": "stream",
          "name": "stdout",
          "text": [
            "KPSS statistic: 5.261962766047119\n",
            "p-value: 0.01\n",
            "Critical values: {'10%': 0.347, '5%': 0.463, '2.5%': 0.574, '1%': 0.739}\n"
          ]
        },
        {
          "output_type": "stream",
          "name": "stderr",
          "text": [
            "/usr/local/lib/python3.9/dist-packages/statsmodels/tsa/stattools.py:2018: InterpolationWarning: The test statistic is outside of the range of p-values available in the\n",
            "look-up table. The actual p-value is smaller than the p-value returned.\n",
            "\n",
            "  warnings.warn(\n"
          ]
        }
      ],
      "source": [
        "# Perform KPSS test\n",
        "kpss_result = kpss(df['close'])\n",
        "print('KPSS statistic:', kpss_result[0])\n",
        "print('p-value:', kpss_result[1])\n",
        "print('Critical values:', kpss_result[3])"
      ]
    },
    {
      "cell_type": "markdown",
      "id": "548641f0",
      "metadata": {
        "id": "548641f0"
      },
      "source": [
        "As we can observe from the ADF and KPSS test, the data is not stationary as ADF test is not significant whereby null hypothesis is that the data is stationary. We fail to reject the null. In KPSS test, the null hypothesis is that the data is not stationary. As p value is significant, we reject the null hypothesis. "
      ]
    },
    {
      "cell_type": "markdown",
      "id": "ef0f91ac",
      "metadata": {
        "id": "ef0f91ac"
      },
      "source": [
        "# 5. ADF and KPSS Test after differencing "
      ]
    },
    {
      "cell_type": "markdown",
      "id": "6632e53e",
      "metadata": {
        "id": "6632e53e"
      },
      "source": [
        "# Differencing to remove trends "
      ]
    },
    {
      "cell_type": "code",
      "execution_count": null,
      "id": "e1fa94dc",
      "metadata": {
        "colab": {
          "base_uri": "https://localhost:8080/"
        },
        "id": "e1fa94dc",
        "outputId": "1b2db429-0da9-4295-aaed-f110f1217f8a"
      },
      "outputs": [
        {
          "output_type": "stream",
          "name": "stdout",
          "text": [
            "ADF statistic: -8.47850283038204\n",
            "p-value: 1.4139138299595207e-13\n",
            "Critical values: {'1%': -3.43284741167062, '5%': -2.8626433656018726, '10%': -2.5673573604457642}\n"
          ]
        }
      ],
      "source": [
        "# Perform ADF test\n",
        "adf_result = adfuller(df_diff['close'])\n",
        "print('ADF statistic:', adf_result[0])\n",
        "print('p-value:', adf_result[1])\n",
        "print('Critical values:', adf_result[4])"
      ]
    },
    {
      "cell_type": "code",
      "execution_count": null,
      "id": "87747e69",
      "metadata": {
        "colab": {
          "base_uri": "https://localhost:8080/"
        },
        "id": "87747e69",
        "outputId": "1ca7315c-fda0-45e5-f331-33e9c40d0e25"
      },
      "outputs": [
        {
          "output_type": "stream",
          "name": "stdout",
          "text": [
            "KPSS statistic: 0.12414816896696627\n",
            "p-value: 0.1\n",
            "Critical values: {'10%': 0.347, '5%': 0.463, '2.5%': 0.574, '1%': 0.739}\n"
          ]
        },
        {
          "output_type": "stream",
          "name": "stderr",
          "text": [
            "/usr/local/lib/python3.9/dist-packages/statsmodels/tsa/stattools.py:2022: InterpolationWarning: The test statistic is outside of the range of p-values available in the\n",
            "look-up table. The actual p-value is greater than the p-value returned.\n",
            "\n",
            "  warnings.warn(\n"
          ]
        }
      ],
      "source": [
        "# Perform KPSS test\n",
        "kpss_result = kpss(df_diff['close'])\n",
        "print('KPSS statistic:', kpss_result[0])\n",
        "print('p-value:', kpss_result[1])\n",
        "print('Critical values:', kpss_result[3])"
      ]
    },
    {
      "cell_type": "markdown",
      "id": "9b925515",
      "metadata": {
        "id": "9b925515"
      },
      "source": [
        "# Seasonal Differencing to remove the trends "
      ]
    },
    {
      "cell_type": "code",
      "execution_count": null,
      "id": "2ff82325",
      "metadata": {
        "colab": {
          "base_uri": "https://localhost:8080/"
        },
        "id": "2ff82325",
        "outputId": "fbb26d3e-3421-4b39-fbc4-0240a62aaab7"
      },
      "outputs": [
        {
          "output_type": "execute_result",
          "data": {
            "text/plain": [
              "close    12\n",
              "dtype: int64"
            ]
          },
          "metadata": {},
          "execution_count": 33
        }
      ],
      "source": [
        "df_seasonal_diff.isnull().sum()"
      ]
    },
    {
      "cell_type": "code",
      "execution_count": null,
      "id": "fa4e22e7",
      "metadata": {
        "id": "fa4e22e7"
      },
      "outputs": [],
      "source": [
        "diff_seasonal = df_seasonal_diff.dropna()"
      ]
    },
    {
      "cell_type": "code",
      "execution_count": null,
      "id": "11caeba6",
      "metadata": {
        "colab": {
          "base_uri": "https://localhost:8080/"
        },
        "id": "11caeba6",
        "outputId": "b6f46544-4aaf-4a12-ce67-480480419bd1"
      },
      "outputs": [
        {
          "output_type": "execute_result",
          "data": {
            "text/plain": [
              "close    0\n",
              "dtype: int64"
            ]
          },
          "metadata": {},
          "execution_count": 35
        }
      ],
      "source": [
        "diff_seasonal.isnull().sum()"
      ]
    },
    {
      "cell_type": "code",
      "execution_count": null,
      "id": "e6c86130",
      "metadata": {
        "colab": {
          "base_uri": "https://localhost:8080/"
        },
        "id": "e6c86130",
        "outputId": "36097ad2-30b2-414c-8058-f8c4510f7e77"
      },
      "outputs": [
        {
          "output_type": "stream",
          "name": "stdout",
          "text": [
            "ADF statistic: -6.461125913680091\n",
            "p-value: 1.4423745756460264e-08\n",
            "Critical values: {'1%': -3.4328541060447755, '5%': -2.8626463219585556, '10%': -2.5673589344293486}\n"
          ]
        }
      ],
      "source": [
        "# Perform ADF test\n",
        "adf_result = adfuller(diff_seasonal['close'])\n",
        "print('ADF statistic:', adf_result[0])\n",
        "print('p-value:', adf_result[1])\n",
        "print('Critical values:', adf_result[4])"
      ]
    },
    {
      "cell_type": "code",
      "execution_count": null,
      "id": "4da3f5fd",
      "metadata": {
        "colab": {
          "base_uri": "https://localhost:8080/"
        },
        "id": "4da3f5fd",
        "outputId": "99e01a56-7278-440d-8fa3-12c574ea66fc"
      },
      "outputs": [
        {
          "output_type": "stream",
          "name": "stdout",
          "text": [
            "KPSS statistic: 0.1131895189329386\n",
            "p-value: 0.1\n",
            "Critical values: {'10%': 0.347, '5%': 0.463, '2.5%': 0.574, '1%': 0.739}\n"
          ]
        },
        {
          "output_type": "stream",
          "name": "stderr",
          "text": [
            "/usr/local/lib/python3.9/dist-packages/statsmodels/tsa/stattools.py:2022: InterpolationWarning: The test statistic is outside of the range of p-values available in the\n",
            "look-up table. The actual p-value is greater than the p-value returned.\n",
            "\n",
            "  warnings.warn(\n"
          ]
        }
      ],
      "source": [
        "# Perform KPSS test\n",
        "kpss_result = kpss(diff_seasonal['close'])\n",
        "print('KPSS statistic:', kpss_result[0])\n",
        "print('p-value:', kpss_result[1])\n",
        "print('Critical values:', kpss_result[3])"
      ]
    },
    {
      "cell_type": "markdown",
      "id": "ee8a1d5d",
      "metadata": {
        "id": "ee8a1d5d"
      },
      "source": [
        "As can be observed from ADF and KPSS test, we can say that data is now stationary after both differencing and seasonal differencing. "
      ]
    },
    {
      "cell_type": "markdown",
      "id": "a2b6aa9d",
      "metadata": {
        "id": "a2b6aa9d"
      },
      "source": [
        "# 6. Plots after differencing and seasonal differencing"
      ]
    },
    {
      "cell_type": "code",
      "execution_count": null,
      "id": "50542805",
      "metadata": {
        "colab": {
          "base_uri": "https://localhost:8080/",
          "height": 295
        },
        "id": "50542805",
        "outputId": "0fe11f56-250b-41c2-8d1c-abbf955bcf4c"
      },
      "outputs": [
        {
          "output_type": "display_data",
          "data": {
            "text/plain": [
              "<Figure size 432x288 with 1 Axes>"
            ],
            "image/png": "[encoded data removed]"
          },
          "metadata": {
            "needs_background": "light"
          }
        }
      ],
      "source": [
        "sm.qqplot(df_diff['close'], line='s')\n",
        "plt.title('QQ plot of Bitcoin Close Price')\n",
        "plt.show()"
      ]
    },
    {
      "cell_type": "code",
      "execution_count": null,
      "id": "e14cc48a",
      "metadata": {
        "colab": {
          "base_uri": "https://localhost:8080/",
          "height": 295
        },
        "id": "e14cc48a",
        "outputId": "82a13063-a5c5-497f-f113-3ea5321e3980"
      },
      "outputs": [
        {
          "output_type": "display_data",
          "data": {
            "text/plain": [
              "<Figure size 432x288 with 1 Axes>"
            ],
            "image/png": "[encoded data removed]"
          },
          "metadata": {
            "needs_background": "light"
          }
        }
      ],
      "source": [
        "sm.qqplot(diff_seasonal['close'], line='s')\n",
        "plt.title('QQ plot of Bitcoin Close Price')\n",
        "plt.show()"
      ]
    },
    {
      "cell_type": "markdown",
      "id": "9cd16294",
      "metadata": {
        "id": "9cd16294"
      },
      "source": [
        "As can be observed from the QQ Plot, the data is now more normal than earlier. "
      ]
    },
    {
      "cell_type": "markdown",
      "id": "40b9c02f",
      "metadata": {
        "id": "40b9c02f"
      },
      "source": [
        "# 7. Train Test Split using original data "
      ]
    },
    {
      "cell_type": "code",
      "execution_count": null,
      "id": "ca371553",
      "metadata": {
        "id": "ca371553"
      },
      "outputs": [],
      "source": [
        "train, test = df['close'][:1855], df['close'][1855:]"
      ]
    },
    {
      "cell_type": "code",
      "execution_count": null,
      "id": "e3bb5299",
      "metadata": {
        "colab": {
          "base_uri": "https://localhost:8080/"
        },
        "id": "e3bb5299",
        "outputId": "9bbbf26b-e0a0-4eec-c801-e249e132e20b"
      },
      "outputs": [
        {
          "output_type": "execute_result",
          "data": {
            "text/plain": [
              "date\n",
              "2014-11-29    0.44\n",
              "2014-11-30   -3.38\n",
              "2014-12-01    5.05\n",
              "2014-12-02    0.86\n",
              "2014-12-03   -2.58\n",
              "Freq: D, Name: close, dtype: float64"
            ]
          },
          "metadata": {},
          "execution_count": 41
        }
      ],
      "source": [
        "# first differencing the train data \n",
        "diff_train = train.diff().dropna()\n",
        "diff_train.head()"
      ]
    },
    {
      "cell_type": "markdown",
      "id": "ac5d1c9b",
      "metadata": {
        "id": "ac5d1c9b"
      },
      "source": [
        "# ARIMA Model"
      ]
    },
    {
      "cell_type": "code",
      "execution_count": null,
      "id": "66004e76",
      "metadata": {
        "id": "66004e76"
      },
      "outputs": [],
      "source": [
        "# Fit an ARIMA model to the training data\n",
        "model = ARIMA(diff_train, order=(1, 1, 1))\n",
        "model_fit = model.fit()"
      ]
    },
    {
      "cell_type": "code",
      "execution_count": null,
      "id": "882e774e",
      "metadata": {
        "id": "882e774e"
      },
      "outputs": [],
      "source": [
        "# Generate predictions for the testing data\n",
        "predictions = model_fit.predict(start=len(diff_train), end=len(diff_train)+len(test)-1)"
      ]
    },
    {
      "cell_type": "code",
      "execution_count": null,
      "id": "4cf551ea",
      "metadata": {
        "colab": {
          "base_uri": "https://localhost:8080/"
        },
        "id": "4cf551ea",
        "outputId": "0f3e763b-16dc-4cac-b030-dd14c455f423"
      },
      "outputs": [
        {
          "output_type": "stream",
          "name": "stdout",
          "text": [
            "MSE: 1268038291.7086291, RMSE: 35609.525294626284, MAE: 29991.683445078466\n"
          ]
        }
      ],
      "source": [
        "from sklearn.metrics import mean_squared_error, mean_absolute_error\n",
        "\n",
        "# Calculate the MSE, RMSE, and MAE for the predicted values\n",
        "mse = mean_squared_error(test, predictions)\n",
        "rmse = np.sqrt(mse)\n",
        "mae = mean_absolute_error(test, predictions)\n",
        "print(f'MSE: {mse}, RMSE: {rmse}, MAE: {mae}')"
      ]
    },
    {
      "cell_type": "code",
      "execution_count": null,
      "id": "a2f2a0df",
      "metadata": {
        "colab": {
          "base_uri": "https://localhost:8080/"
        },
        "id": "a2f2a0df",
        "outputId": "2106e247-2702-463e-c342-de33c4aee4f1"
      },
      "outputs": [
        {
          "output_type": "stream",
          "name": "stdout",
          "text": [
            "ARIMA: MSE=1268038291.71, RMSE=35609.53, MAE=29991.68\n",
            "Baseline: MSE=1051446291.77, RMSE=32426.01, MAE=26132.53\n"
          ]
        }
      ],
      "source": [
        "# Generate predictions for a simple baseline model\n",
        "baseline_predictions = np.full(len(test), train.mean())\n",
        "\n",
        "# Calculate the MSE, RMSE, and MAE for the baseline model predictions\n",
        "baseline_mse = mean_squared_error(test, baseline_predictions)\n",
        "baseline_rmse = np.sqrt(baseline_mse)\n",
        "baseline_mae = mean_absolute_error(test, baseline_predictions)\n",
        "\n",
        "# Compare the evaluation metrics for the ARIMA model and the baseline model\n",
        "print(f'ARIMA: MSE={mse:.2f}, RMSE={rmse:.2f}, MAE={mae:.2f}')\n",
        "print(f'Baseline: MSE={baseline_mse:.2f}, RMSE={baseline_rmse:.2f}, MAE={baseline_mae:.2f}')"
      ]
    },
    {
      "cell_type": "code",
      "execution_count": null,
      "id": "dd79e87e",
      "metadata": {
        "colab": {
          "base_uri": "https://localhost:8080/",
          "height": 306
        },
        "id": "dd79e87e",
        "outputId": "abc70124-468f-44d1-9896-2c422e948820"
      },
      "outputs": [
        {
          "output_type": "display_data",
          "data": {
            "text/plain": [
              "<Figure size 432x288 with 1 Axes>"
            ],
            "image/png": "[encoded data removed]"
          },
          "metadata": {
            "needs_background": "light"
          }
        }
      ],
      "source": [
        "# Define the evaluation metrics for the baseline and ARIMA models\n",
        "ARIMA_MSE=1268038291.81\n",
        "ARIMA_RMSE=35609.53\n",
        "ARIMA_MAE=29991.68\n",
        "Baseline_MSE=1051446291.77\n",
        "Baseline_RMSE=32426.01\n",
        "Baseline_MAE=26132.53\n",
        "# Define the labels for the x-axis\n",
        "labels = ['MSE', 'RMSE', 'MAE']\n",
        "\n",
        "# Define the baseline values and the ARIMA values\n",
        "baseline_values = [Baseline_MSE, Baseline_RMSE, Baseline_MAE]\n",
        "arima_values = [ARIMA_MSE, ARIMA_RMSE, ARIMA_MAE]\n",
        "\n",
        "# Define the colors for the baseline and ARIMA lines\n",
        "baseline_color = 'red'\n",
        "arima_color = 'blue'\n",
        "\n",
        "# Plot the baseline line\n",
        "plt.plot(labels, baseline_values, label='Baseline', color=baseline_color)\n",
        "\n",
        "# Plot the ARIMA line\n",
        "plt.plot(labels, arima_values, label='ARIMA', color=arima_color)\n",
        "\n",
        "# Add labels and a legend to the plot\n",
        "plt.xlabel('Evaluation Metric')\n",
        "plt.ylabel('Value')\n",
        "plt.title('Comparison of Baseline and ARIMA Model Performance')\n",
        "plt.legend()\n",
        "plt.show()"
      ]
    },
    {
      "cell_type": "markdown",
      "id": "4af55e57",
      "metadata": {
        "id": "4af55e57"
      },
      "source": [
        "# LSTM Model "
      ]
    },
    {
      "cell_type": "code",
      "execution_count": null,
      "id": "9e1d1cfa",
      "metadata": {
        "id": "9e1d1cfa"
      },
      "outputs": [],
      "source": [
        "# scale the differenced train data using a MinMaxScaler\n",
        "scaler = MinMaxScaler(feature_range=(0, 1))\n",
        "train_scaled = scaler.fit_transform(diff_train.values.reshape(-1, 1))"
      ]
    },
    {
      "cell_type": "code",
      "execution_count": null,
      "id": "3d4e6e2e",
      "metadata": {
        "id": "3d4e6e2e"
      },
      "outputs": [],
      "source": [
        "# create sequences of length 10 for the training data\n",
        "seq_length = 10\n",
        "X_train, y_train = [], []\n",
        "for i in range(seq_length, len(diff_train)):\n",
        "    X_train.append(diff_train[i-seq_length:i])\n",
        "    y_train.append(diff_train[i])\n",
        "X_train, y_train = np.array(X_train), np.array(y_train)"
      ]
    },
    {
      "cell_type": "code",
      "execution_count": null,
      "id": "61a212b3",
      "metadata": {
        "id": "61a212b3"
      },
      "outputs": [],
      "source": [
        "# reshape the data for LSTM input\n",
        "X_train = np.reshape(X_train, (X_train.shape[0], X_train.shape[1], 1))"
      ]
    },
    {
      "cell_type": "code",
      "execution_count": null,
      "id": "b0d35bd6",
      "metadata": {
        "id": "b0d35bd6"
      },
      "outputs": [],
      "source": [
        "# build the LSTM model\n",
        "model = Sequential()\n",
        "model.add(LSTM(units=50, return_sequences=True, input_shape=(X_train.shape[1], 1)))\n",
        "model.add(LSTM(units=50))\n",
        "model.add(Dense(units=1))\n",
        "model.compile(optimizer='adam', loss='mean_squared_error')"
      ]
    },
    {
      "cell_type": "code",
      "execution_count": null,
      "id": "39eb9179",
      "metadata": {
        "colab": {
          "base_uri": "https://localhost:8080/"
        },
        "id": "39eb9179",
        "outputId": "0f349660-cd18-4968-d595-445b0996aee9"
      },
      "outputs": [
        {
          "output_type": "stream",
          "name": "stdout",
          "text": [
            "Epoch 1/50\n",
            "58/58 [==============================] - 7s 9ms/step - loss: 76225.1016\n",
            "Epoch 2/50\n",
            "58/58 [==============================] - 1s 10ms/step - loss: 76211.5312\n",
            "Epoch 3/50\n",
            "58/58 [==============================] - 1s 10ms/step - loss: 76194.1172\n",
            "Epoch 4/50\n",
            "58/58 [==============================] - 1s 10ms/step - loss: 76176.3672\n",
            "Epoch 5/50\n",
            "58/58 [==============================] - 1s 11ms/step - loss: 76155.1562\n",
            "Epoch 6/50\n",
            "58/58 [==============================] - 1s 11ms/step - loss: 76121.2266\n",
            "Epoch 7/50\n",
            "58/58 [==============================] - 1s 11ms/step - loss: 76088.8047\n",
            "Epoch 8/50\n",
            "58/58 [==============================] - 1s 11ms/step - loss: 76060.3203\n",
            "Epoch 9/50\n",
            "58/58 [==============================] - 1s 10ms/step - loss: 76026.5547\n",
            "Epoch 10/50\n",
            "58/58 [==============================] - 1s 11ms/step - loss: 75992.5469\n",
            "Epoch 11/50\n",
            "58/58 [==============================] - 1s 10ms/step - loss: 75957.8359\n",
            "Epoch 12/50\n",
            "58/58 [==============================] - 1s 11ms/step - loss: 75913.9609\n",
            "Epoch 13/50\n",
            "58/58 [==============================] - 1s 11ms/step - loss: 75858.7422\n",
            "Epoch 14/50\n",
            "58/58 [==============================] - 1s 11ms/step - loss: 75835.5391\n",
            "Epoch 15/50\n",
            "58/58 [==============================] - 2s 30ms/step - loss: 75842.7188\n",
            "Epoch 16/50\n",
            "58/58 [==============================] - 2s 29ms/step - loss: 75731.2500\n",
            "Epoch 17/50\n",
            "58/58 [==============================] - 1s 18ms/step - loss: 75676.9375\n",
            "Epoch 18/50\n",
            "58/58 [==============================] - 1s 11ms/step - loss: 75605.1484\n",
            "Epoch 19/50\n",
            "58/58 [==============================] - 1s 11ms/step - loss: 75528.0938\n",
            "Epoch 20/50\n",
            "58/58 [==============================] - 1s 11ms/step - loss: 75525.3984\n",
            "Epoch 21/50\n",
            "58/58 [==============================] - 1s 11ms/step - loss: 75400.7188\n",
            "Epoch 22/50\n",
            "58/58 [==============================] - 1s 10ms/step - loss: 75653.1016\n",
            "Epoch 23/50\n",
            "58/58 [==============================] - 1s 13ms/step - loss: 75312.9219\n",
            "Epoch 24/50\n",
            "58/58 [==============================] - 1s 13ms/step - loss: 75187.7734\n",
            "Epoch 25/50\n",
            "58/58 [==============================] - 1s 14ms/step - loss: 75098.4531\n",
            "Epoch 26/50\n",
            "58/58 [==============================] - 1s 15ms/step - loss: 75073.2500\n",
            "Epoch 27/50\n",
            "58/58 [==============================] - 1s 17ms/step - loss: 74887.0859\n",
            "Epoch 28/50\n",
            "58/58 [==============================] - 1s 14ms/step - loss: 74814.2578\n",
            "Epoch 29/50\n",
            "58/58 [==============================] - 1s 12ms/step - loss: 74809.1719\n",
            "Epoch 30/50\n",
            "58/58 [==============================] - 1s 16ms/step - loss: 74748.6406\n",
            "Epoch 31/50\n",
            "58/58 [==============================] - 1s 14ms/step - loss: 74461.7344\n",
            "Epoch 32/50\n",
            "58/58 [==============================] - 1s 14ms/step - loss: 74408.7344\n",
            "Epoch 33/50\n",
            "58/58 [==============================] - 1s 14ms/step - loss: 74385.2656\n",
            "Epoch 34/50\n",
            "58/58 [==============================] - 1s 12ms/step - loss: 74283.5859\n",
            "Epoch 35/50\n",
            "58/58 [==============================] - 1s 11ms/step - loss: 74084.4609\n",
            "Epoch 36/50\n",
            "58/58 [==============================] - 1s 11ms/step - loss: 73886.8281\n",
            "Epoch 37/50\n",
            "58/58 [==============================] - 1s 11ms/step - loss: 73716.5781\n",
            "Epoch 38/50\n",
            "58/58 [==============================] - 1s 11ms/step - loss: 73584.0078\n",
            "Epoch 39/50\n",
            "58/58 [==============================] - 1s 11ms/step - loss: 73887.2500\n",
            "Epoch 40/50\n",
            "58/58 [==============================] - 1s 11ms/step - loss: 73857.3672\n",
            "Epoch 41/50\n",
            "58/58 [==============================] - 1s 12ms/step - loss: 73256.7656\n",
            "Epoch 42/50\n",
            "58/58 [==============================] - 1s 11ms/step - loss: 73328.2891\n",
            "Epoch 43/50\n",
            "58/58 [==============================] - 1s 11ms/step - loss: 73135.8438\n",
            "Epoch 44/50\n",
            "58/58 [==============================] - 1s 11ms/step - loss: 73219.4609\n",
            "Epoch 45/50\n",
            "58/58 [==============================] - 1s 11ms/step - loss: 73144.6562\n",
            "Epoch 46/50\n",
            "58/58 [==============================] - 1s 11ms/step - loss: 72798.9297\n",
            "Epoch 47/50\n",
            "58/58 [==============================] - 1s 11ms/step - loss: 72762.5234\n",
            "Epoch 48/50\n",
            "58/58 [==============================] - 1s 11ms/step - loss: 72542.5938\n",
            "Epoch 49/50\n",
            "58/58 [==============================] - 1s 15ms/step - loss: 72597.7500\n",
            "Epoch 50/50\n",
            "58/58 [==============================] - 1s 14ms/step - loss: 72246.2969\n"
          ]
        },
        {
          "output_type": "execute_result",
          "data": {
            "text/plain": [
              "<keras.callbacks.History at 0x7f6334930a00>"
            ]
          },
          "metadata": {},
          "execution_count": 52
        }
      ],
      "source": [
        "# train the LSTM model\n",
        "model.fit(X_train, y_train, epochs=50, batch_size=32)"
      ]
    },
    {
      "cell_type": "code",
      "source": [
        "# make predictions on the test data\n",
        "inputs = diff_train[len(diff_train) - len(test) - seq_length:].values.reshape(-1,1)\n",
        "inputs = scaler.transform(inputs)\n",
        "X_test = []\n",
        "for i in range(seq_length, inputs.shape[0]):\n",
        "    X_test.append(inputs[i-seq_length:i, 0])\n",
        "X_test = np.array(X_test)\n",
        "X_test = np.reshape(X_test, (X_test.shape[0], X_test.shape[1], 1))\n",
        "predicted_diff = model.predict(X_test)\n",
        "predicted_diff = scaler.inverse_transform(predicted_diff)"
      ],
      "metadata": {
        "colab": {
          "base_uri": "https://localhost:8080/"
        },
        "id": "6unIYdxfpFU4",
        "outputId": "a0ecab0a-9b85-47ba-ab41-806a07888e0e"
      },
      "id": "6unIYdxfpFU4",
      "execution_count": null,
      "outputs": [
        {
          "output_type": "stream",
          "name": "stdout",
          "text": [
            "25/25 [==============================] - 1s 5ms/step\n"
          ]
        }
      ]
    },
    {
      "cell_type": "code",
      "source": [
        "# add the predicted differences to the last observed value of the training data\n",
        "predicted_price = []\n",
        "last_observed = train.iloc[-1]\n",
        "for i in range(len(predicted_diff)):\n",
        "    last_observed += predicted_diff[i]\n",
        "    predicted_price.append(last_observed)"
      ],
      "metadata": {
        "id": "SU64UCwmrvDK"
      },
      "id": "SU64UCwmrvDK",
      "execution_count": null,
      "outputs": []
    },
    {
      "cell_type": "code",
      "source": [
        "# calculate evaluation metrics\n",
        "mse = mean_squared_error(test, predicted_price)\n",
        "rmse = np.sqrt(mse)\n",
        "mae = mean_absolute_error(test, predicted_price)\n",
        "\n",
        "# print the evaluation metrics\n",
        "print(f'LSTM with first differencing: MSE={mse:.2f}, RMSE={rmse:.2f}, MAE={mae:.2f}')"
      ],
      "metadata": {
        "colab": {
          "base_uri": "https://localhost:8080/"
        },
        "id": "uaDOieMGr6k9",
        "outputId": "ba519ba5-1fd3-47ab-caf3-15305d1ec317"
      },
      "id": "uaDOieMGr6k9",
      "execution_count": null,
      "outputs": [
        {
          "output_type": "stream",
          "name": "stdout",
          "text": [
            "LSTM with first differencing: MSE=161470296509372.59, RMSE=12707096.31, MAE=12707081.80\n"
          ]
        }
      ]
    },
    {
      "cell_type": "code",
      "source": [
        "# Define the evaluation metrics for the baseline and ARIMA models\n",
        "LSTM_MSE=161470296509372.59\n",
        "LSTM_RMSE=12707096.31\n",
        "LSTM_MAE=12707081.80\n",
        "Baseline_MSE=1051446291.77\n",
        "Baseline_RMSE=32426.01\n",
        "Baseline_MAE=26132.53\n",
        "# Define the labels for the x-axis\n",
        "labels = ['MSE', 'RMSE', 'MAE']\n",
        "\n",
        "# Define the baseline values and the ARIMA values\n",
        "baseline_values = [Baseline_MSE, Baseline_RMSE, Baseline_MAE]\n",
        "LSTM_values = [LSTM_MSE, LSTM_RMSE, LSTM_MAE]\n",
        "\n",
        "# Define the colors for the baseline and ARIMA lines\n",
        "baseline_color = 'red'\n",
        "LSTM_color = 'blue'\n",
        "\n",
        "# Plot the baseline line\n",
        "plt.plot(labels, baseline_values, label='Baseline', color=baseline_color)\n",
        "\n",
        "# Plot the ARIMA line\n",
        "plt.plot(labels, LSTM_values, label='LSTM', color=arima_color)\n",
        "\n",
        "# Add labels and a legend to the plot\n",
        "plt.xlabel('Evaluation Metric')\n",
        "plt.ylabel('Value')\n",
        "plt.title('Comparison of Baseline and LSTM Model Performance')\n",
        "plt.legend()\n",
        "plt.show()"
      ],
      "metadata": {
        "colab": {
          "base_uri": "https://localhost:8080/",
          "height": 306
        },
        "id": "vaY0afxFr_oz",
        "outputId": "43f11b8c-0c06-483d-99b6-7122171ccaee"
      },
      "id": "vaY0afxFr_oz",
      "execution_count": null,
      "outputs": [
        {
          "output_type": "display_data",
          "data": {
            "text/plain": [
              "<Figure size 432x288 with 1 Axes>"
            ],
            "image/png": "[encoded data removed]"
          },
          "metadata": {
            "needs_background": "light"
          }
        }
      ]
    },
    {
      "cell_type": "code",
      "source": [],
      "metadata": {
        "id": "7ryjL2g4s-IL"
      },
      "id": "7ryjL2g4s-IL",
      "execution_count": null,
      "outputs": []
    }
  ],
  "metadata": {
    "kernelspec": {
      "display_name": "Python 3 (ipykernel)",
      "language": "python",
      "name": "python3"
    },
    "language_info": {
      "codemirror_mode": {
        "name": "ipython",
        "version": 3
      },
      "file_extension": ".py",
      "mimetype": "text/x-python",
      "name": "python",
      "nbconvert_exporter": "python",
      "pygments_lexer": "ipython3",
      "version": "3.9.12"
    },
    "colab": {
      "provenance": [],
      "include_colab_link": true
    }
  },
  "nbformat": 4,
  "nbformat_minor": 5
}